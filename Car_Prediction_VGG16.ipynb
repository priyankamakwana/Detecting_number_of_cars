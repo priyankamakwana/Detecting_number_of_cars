{
  "nbformat": 4,
  "nbformat_minor": 0,
  "metadata": {
    "colab": {
      "name": "VGG16.ipynb",
      "version": "0.3.2",
      "provenance": [],
      "collapsed_sections": [
        "HOGbEGuK41lT",
        "9vnhSN1lxxz3",
        "sza8wMNTyh3A"
      ],
      "toc_visible": true
    },
    "kernelspec": {
      "name": "python3",
      "display_name": "Python 3"
    },
    "accelerator": "GPU"
  },
  "cells": [
    {
      "metadata": {
        "id": "BrgPPudATciF",
        "colab_type": "text"
      },
      "cell_type": "markdown",
      "source": [
        "# Classification using VGG16"
      ]
    },
    {
      "metadata": {
        "id": "9c6w-1VRrKie",
        "colab_type": "code",
        "outputId": "c887970f-bea9-49e1-c32a-1d064150910c",
        "colab": {
          "base_uri": "https://localhost:8080/",
          "height": 272
        }
      },
      "cell_type": "code",
      "source": [
        "!pip install -U -q PyDrive\n",
        " \n",
        "from pydrive.auth import GoogleAuth\n",
        "from pydrive.drive import GoogleDrive\n",
        "from google.colab import auth\n",
        "from oauth2client.client import GoogleCredentials\n",
        " \n",
        "# 1. Authenticate and create the PyDrive client.\n",
        "auth.authenticate_user()\n",
        "gauth = GoogleAuth()\n",
        "gauth.credentials = GoogleCredentials.get_application_default()\n",
        "drive = GoogleDrive(gauth)\n",
        "file_list = drive.ListFile({'q': \"'1otOTvDuni4Rg76ryPmXciSQa8CXcskIC' in parents and trashed=false\"}).GetList()\n",
        "for file1 in file_list:\n",
        "  print('title: %s, id: %s' % (file1['title'], file1['id']))"
      ],
      "execution_count": 0,
      "outputs": [
        {
          "output_type": "stream",
          "text": [
            "title: CarPrediction.ipynb, id: 1izrvRuqohO6SNGIWoQVSRvFnkduy6pSH\n",
            "title: new cars_3.zip, id: 13Du2JUMQtGbv6W9Ab2R0238epf_GxNOo\n",
            "title: new new cars.zip, id: 1CzraghJaUPymHVWaUc8jhYNEuLyzQ5ty\n",
            "title: new cars_3_categories.zip, id: 1rQ_iDx7CxnoRkHVB9zSzevXDX2w57k2E\n",
            "title: new cars-validate.zip, id: 1bwcaOLd76ZoyL9D3EAUiEvq1tLQon9FK\n",
            "title: new cars-new.zip, id: 1YepL_wNaT93awuygYY_XdQd7i2Zb_yuv\n",
            "title: CarParking, id: 1KdoWe622RP0kOrQ1bkxyhNDvwUFo9h_V\n",
            "title: Untitled1.ipynb, id: 1yJ-5QmoZDkNUiuLXn-pJSwGL6mloJ4Kc\n",
            "title: MiniProject-3.ipynb, id: 1hQtnxMn5TrDp3Hqk0RfA4CstNldRXMJC\n",
            "title: Untitled0.ipynb, id: 1lIa8Y6UqJEqefP44Qk_3c9eerq35LpQK\n",
            "title: yelp-2.ipynb, id: 1OQgOKyYctVFEJNLzIb66v0nuQh_DB6h-\n",
            "title: network_intrusion_data.csv, id: 1OTA2o-eNmCrQIx_AxWsEP644Hi43AmdQ\n",
            "title: drive.ipynb, id: 1DrEk5If3kVLb92Qc-ZiDVwOaUyVvP-ky\n",
            "title: reviewgrouped.tsv, id: 1MYJlncWUQD11fvIN27iWTC2r0szm5n8C\n",
            "title: Yelp Project - 2, id: 1D83GIi6562AE_OJMG7E8I0jkkkbA9Pww\n"
          ],
          "name": "stdout"
        }
      ]
    },
    {
      "metadata": {
        "id": "8rJf8Dov1CUp",
        "colab_type": "code",
        "colab": {}
      },
      "cell_type": "code",
      "source": [
        "import pandas as pd\n",
        "import numpy as np\n",
        "import pandas as pd\n",
        "import io\n",
        "import requests\n",
        "import numpy as np\n",
        "from sklearn import metrics\n",
        "from keras.models import Sequential\n",
        "from keras.layers.core import Dense, Activation, Dropout\n",
        "from keras.callbacks import EarlyStopping\n",
        "from keras.callbacks import ModelCheckpoint\n",
        "import collections\n",
        "from sklearn import preprocessing\n",
        "import sklearn.feature_extraction.text as sk_text\n",
        "from keras.callbacks import EarlyStopping, ModelCheckpoint\n",
        "from keras import optimizers\n",
        "from sklearn.model_selection import train_test_split\n",
        "from sklearn.metrics import r2_score\n",
        "from keras.models import Sequential\n",
        "from keras.layers import Dense, Dropout, Flatten, Embedding\n",
        "from keras.layers import Conv2D, MaxPooling2D, GlobalAveragePooling2D\n",
        "from keras.layers import Conv1D, MaxPooling1D\n",
        "import keras\n",
        "from keras.preprocessing import sequence\n",
        "from keras.layers import LSTM\n",
        "import matplotlib.pyplot as plt\n",
        "from sklearn.metrics import confusion_matrix\n",
        "from keras.optimizers import Adam, SGD\n",
        "import itertools\n",
        "from keras.preprocessing.image import ImageDataGenerator\n",
        "from keras.models import Model\n",
        "# plots images with labels within jupyter notebook\n",
        "def plots(ims, figsize=(12,6), rows=1, interp=False, titles=None):\n",
        "    if type(ims[0]) is np.ndarray:\n",
        "        ims = np.array(ims).astype(np.uint8)\n",
        "        if (ims.shape[-1] != 3):\n",
        "            ims = ims.transpose((0,2,3,1))\n",
        "    f = plt.figure(figsize=figsize)\n",
        "    cols = len(ims)//rows if len(ims) % 2 == 0 else len(ims)//rows + 1\n",
        "    for i in range(len(ims)):\n",
        "        sp = f.add_subplot(rows, cols, i+1)\n",
        "        sp.axis('Off')\n",
        "        if titles is not None:\n",
        "            sp.set_title(titles[i], fontsize=16)\n",
        "        plt.imshow(ims[i], interpolation=None if interp else 'none')\n",
        "\t\t\n",
        "\n",
        "# Plot a confusion matrix.\n",
        "# cm is the confusion matrix, names are the names of the classes.\n",
        "def plot_confusion_matrix(cm, names, title='Confusion matrix', cmap=plt.cm.Blues):\n",
        "    plt.imshow(cm, interpolation='nearest', cmap=cmap)\n",
        "    plt.title(title)\n",
        "    plt.colorbar()\n",
        "    tick_marks = np.arange(len(names))\n",
        "    plt.xticks(tick_marks, names, rotation=45)\n",
        "    plt.yticks(tick_marks, names)\n",
        "    plt.tight_layout()\n",
        "    plt.ylabel('True label')\n",
        "    plt.xlabel('Predicted label')"
      ],
      "execution_count": 0,
      "outputs": []
    },
    {
      "metadata": {
        "id": "HOGbEGuK41lT",
        "colab_type": "text"
      },
      "cell_type": "markdown",
      "source": [
        "# 3 categories"
      ]
    },
    {
      "metadata": {
        "id": "x570tKvVSBTR",
        "colab_type": "code",
        "colab": {}
      },
      "cell_type": "code",
      "source": [
        "cars_downloaded_3 = drive.CreateFile({'id': '1rQ_iDx7CxnoRkHVB9zSzevXDX2w57k2E'})\n",
        "cars_downloaded_3.GetContentFile('new cars_3_categories.zip')"
      ],
      "execution_count": 0,
      "outputs": []
    },
    {
      "metadata": {
        "id": "ovFlwyGHSQU1",
        "colab_type": "code",
        "colab": {}
      },
      "cell_type": "code",
      "source": [
        "!unzip 'new cars_3_categories.zip'"
      ],
      "execution_count": 0,
      "outputs": []
    },
    {
      "metadata": {
        "id": "oQxc1xj340xc",
        "colab_type": "code",
        "colab": {}
      },
      "cell_type": "code",
      "source": [
        "train_path_3 = 'new cars_3/train'\n",
        "test_path_3 = 'new cars_3/test'\n",
        "validate_path_3 = 'new cars_3/validate'"
      ],
      "execution_count": 0,
      "outputs": []
    },
    {
      "metadata": {
        "colab_type": "text",
        "id": "W-ix3WkYVRb8"
      },
      "cell_type": "markdown",
      "source": [
        "**Generating labels from image data**"
      ]
    },
    {
      "metadata": {
        "id": "FrZmvHDM5DWt",
        "colab_type": "code",
        "outputId": "af4f065a-3cc8-4df8-daa2-5a65fe875963",
        "colab": {
          "base_uri": "https://localhost:8080/",
          "height": 34
        }
      },
      "cell_type": "code",
      "source": [
        "train_batches_3 = ImageDataGenerator().flow_from_directory(\n",
        "    directory=train_path_3,\n",
        "    target_size=(224, 224),\n",
        "    color_mode=\"rgb\",\n",
        "    batch_size = 13,\n",
        "    classes = ['no_car','one_car','multiple_cars']\n",
        "    )"
      ],
      "execution_count": 0,
      "outputs": [
        {
          "output_type": "stream",
          "text": [
            "Found 140 images belonging to 3 classes.\n"
          ],
          "name": "stdout"
        }
      ]
    },
    {
      "metadata": {
        "id": "96LmURIc5JTt",
        "colab_type": "code",
        "outputId": "cd26c753-d5de-4e2a-d837-908b2fbd26a3",
        "colab": {
          "base_uri": "https://localhost:8080/",
          "height": 34
        }
      },
      "cell_type": "code",
      "source": [
        "validate_batches_3 = ImageDataGenerator().flow_from_directory(\n",
        "    directory=validate_path_3,\n",
        "    target_size=(224, 224),\n",
        "    color_mode=\"rgb\",\n",
        "    batch_size = 13,\n",
        "    classes = ['no_car','one_car','multiple_cars']\n",
        "    )"
      ],
      "execution_count": 0,
      "outputs": [
        {
          "output_type": "stream",
          "text": [
            "Found 40 images belonging to 3 classes.\n"
          ],
          "name": "stdout"
        }
      ]
    },
    {
      "metadata": {
        "id": "SEhMVdP-5LQT",
        "colab_type": "code",
        "outputId": "a18585a6-ef77-463b-e797-349ccd35ab4e",
        "colab": {
          "base_uri": "https://localhost:8080/",
          "height": 34
        }
      },
      "cell_type": "code",
      "source": [
        "test_batches_3 = ImageDataGenerator().flow_from_directory(\n",
        "    directory=test_path_3,\n",
        "    target_size=(224, 224),\n",
        "    color_mode=\"rgb\",\n",
        "    #batch_size = 10,\n",
        "    classes = ['no_car','one_car','multiple_cars']\n",
        "    )"
      ],
      "execution_count": 0,
      "outputs": [
        {
          "output_type": "stream",
          "text": [
            "Found 13 images belonging to 3 classes.\n"
          ],
          "name": "stdout"
        }
      ]
    },
    {
      "metadata": {
        "id": "s0QeBhWN5igl",
        "colab_type": "code",
        "colab": {}
      },
      "cell_type": "code",
      "source": [
        "img_train_3,label_train_3 = next(train_batches_3)"
      ],
      "execution_count": 0,
      "outputs": []
    },
    {
      "metadata": {
        "id": "fiMUI3Eg5smj",
        "colab_type": "code",
        "colab": {}
      },
      "cell_type": "code",
      "source": [
        "img_test_3,label_test_3 = next(test_batches_3)"
      ],
      "execution_count": 0,
      "outputs": []
    },
    {
      "metadata": {
        "id": "kHc2W0kt6rSj",
        "colab_type": "text"
      },
      "cell_type": "markdown",
      "source": [
        "## VGG16\n"
      ]
    },
    {
      "metadata": {
        "colab_type": "text",
        "id": "2U4Yzps1YOup"
      },
      "cell_type": "markdown",
      "source": [
        "**Loading Model**"
      ]
    },
    {
      "metadata": {
        "colab_type": "code",
        "id": "iQblL-i555iu",
        "colab": {
          "base_uri": "https://localhost:8080/",
          "height": 88
        },
        "outputId": "419ccf62-5df5-48cf-d04a-eac4cac5530b"
      },
      "cell_type": "code",
      "source": [
        "import keras\n",
        "import numpy as np\n",
        "from keras.applications import vgg16, inception_v3, resnet50, mobilenet\n",
        " \n",
        "#Load the VGG model\n",
        "vgg_model = keras.applications.vgg16.VGG16(include_top=False, weights='imagenet', input_tensor=None, input_shape=(224,224,3), pooling=None, classes=1000)"
      ],
      "execution_count": 1,
      "outputs": [
        {
          "output_type": "stream",
          "text": [
            "Using TensorFlow backend.\n"
          ],
          "name": "stderr"
        },
        {
          "output_type": "stream",
          "text": [
            "Downloading data from https://github.com/fchollet/deep-learning-models/releases/download/v0.1/vgg16_weights_tf_dim_ordering_tf_kernels_notop.h5\n",
            "58892288/58889256 [==============================] - 5s 0us/step\n"
          ],
          "name": "stdout"
        }
      ]
    },
    {
      "metadata": {
        "colab_type": "code",
        "id": "uK0Ib25W55iw",
        "colab": {}
      },
      "cell_type": "code",
      "source": [
        "processed_image_train = vgg16.preprocess_input(img_train)"
      ],
      "execution_count": 0,
      "outputs": []
    },
    {
      "metadata": {
        "colab_type": "code",
        "id": "R3bpDDq855i0",
        "colab": {}
      },
      "cell_type": "code",
      "source": [
        "processed_image_test = vgg16.preprocess_input(img_test)"
      ],
      "execution_count": 0,
      "outputs": []
    },
    {
      "metadata": {
        "colab_type": "code",
        "id": "PHQ6_S8C55i-",
        "colab": {}
      },
      "cell_type": "code",
      "source": [
        "vgg_model.summary()"
      ],
      "execution_count": 0,
      "outputs": []
    },
    {
      "metadata": {
        "colab_type": "text",
        "id": "zRWDDk_VYVv1"
      },
      "cell_type": "markdown",
      "source": [
        "**Adding layers of VGG16 model to a new model**"
      ]
    },
    {
      "metadata": {
        "colab_type": "code",
        "id": "4sT2KCPg55jJ",
        "colab": {}
      },
      "cell_type": "code",
      "source": [
        "model = Sequential()\n",
        "for layer in vgg_model.layers:\n",
        "  model.add(layer)"
      ],
      "execution_count": 0,
      "outputs": []
    },
    {
      "metadata": {
        "colab_type": "text",
        "id": "ybxpa0XhYoI_"
      },
      "cell_type": "markdown",
      "source": [
        "**Freezing the all layers of new model**"
      ]
    },
    {
      "metadata": {
        "colab_type": "code",
        "id": "x62YDiKd55jM",
        "colab": {}
      },
      "cell_type": "code",
      "source": [
        "for layer in model.layers[:-4]:\n",
        "  layer.trainable = False"
      ],
      "execution_count": 0,
      "outputs": []
    },
    {
      "metadata": {
        "id": "0B2aL9Bpr5ro",
        "colab_type": "code",
        "outputId": "8441de75-082e-46e9-edb9-dd9793f39325",
        "colab": {
          "base_uri": "https://localhost:8080/",
          "height": 323
        }
      },
      "cell_type": "code",
      "source": [
        "for layer in model.layers:\n",
        "    print(layer, layer.trainable)"
      ],
      "execution_count": 0,
      "outputs": [
        {
          "output_type": "stream",
          "text": [
            "<keras.layers.convolutional.Conv2D object at 0x7f1d174fbc18> False\n",
            "<keras.layers.convolutional.Conv2D object at 0x7f1d174fb400> False\n",
            "<keras.layers.pooling.MaxPooling2D object at 0x7f1d12f84e48> False\n",
            "<keras.layers.convolutional.Conv2D object at 0x7f1d176b7710> False\n",
            "<keras.layers.convolutional.Conv2D object at 0x7f1d13213550> False\n",
            "<keras.layers.pooling.MaxPooling2D object at 0x7f1d1328bcf8> False\n",
            "<keras.layers.convolutional.Conv2D object at 0x7f1d1328ba20> False\n",
            "<keras.layers.convolutional.Conv2D object at 0x7f1d132c6978> False\n",
            "<keras.layers.convolutional.Conv2D object at 0x7f1d132b6ac8> False\n",
            "<keras.layers.pooling.MaxPooling2D object at 0x7f1d132b9358> False\n",
            "<keras.layers.convolutional.Conv2D object at 0x7f1d132b9d30> False\n",
            "<keras.layers.convolutional.Conv2D object at 0x7f1d13bcf208> False\n",
            "<keras.layers.convolutional.Conv2D object at 0x7f1d175dda20> False\n",
            "<keras.layers.pooling.MaxPooling2D object at 0x7f1d12f0a978> False\n",
            "<keras.layers.convolutional.Conv2D object at 0x7f1d12f0acf8> True\n",
            "<keras.layers.convolutional.Conv2D object at 0x7f1d1016d128> True\n",
            "<keras.layers.convolutional.Conv2D object at 0x7f1d10186518> True\n",
            "<keras.layers.pooling.MaxPooling2D object at 0x7f1d10124320> True\n"
          ],
          "name": "stdout"
        }
      ]
    },
    {
      "metadata": {
        "colab_type": "text",
        "id": "B9aLyXHRYoJF"
      },
      "cell_type": "markdown",
      "source": [
        "**Adding new layers on top to train**"
      ]
    },
    {
      "metadata": {
        "colab_type": "code",
        "id": "WmtLHS-355jV",
        "colab": {}
      },
      "cell_type": "code",
      "source": [
        "model.add(Flatten(input_shape=model.output_shape[1:]))\n",
        "model.add(Dense(256, activation='relu'))\n",
        "model.add(Dropout(0.5))\n",
        "model.add(Dense(3, activation='softmax'))"
      ],
      "execution_count": 0,
      "outputs": []
    },
    {
      "metadata": {
        "colab_type": "code",
        "id": "FL0Jsgca55ja",
        "colab": {}
      },
      "cell_type": "code",
      "source": [
        "model.summary()"
      ],
      "execution_count": 0,
      "outputs": []
    },
    {
      "metadata": {
        "colab_type": "code",
        "id": "_RluRqgo55jg",
        "colab": {}
      },
      "cell_type": "code",
      "source": [
        "model.compile(Adam(lr=.0001), loss='categorical_crossentropy', metrics=['accuracy'])"
      ],
      "execution_count": 0,
      "outputs": []
    },
    {
      "metadata": {
        "id": "b4ff62i4wCso",
        "colab_type": "code",
        "colab": {}
      },
      "cell_type": "code",
      "source": [
        "checkpointer = ModelCheckpoint(filepath=\"best_weights_cnn_extra.hdf5\", verbose=0, save_best_only=True) # save best model\n",
        "monitor = EarlyStopping(monitor='val_loss', min_delta=1e-4, patience=4, verbose=1, mode='auto')"
      ],
      "execution_count": 0,
      "outputs": []
    },
    {
      "metadata": {
        "colab_type": "code",
        "outputId": "24c88107-36a4-437f-eb66-ca63400cf6ad",
        "id": "OudWRjgq55ji",
        "colab": {
          "base_uri": "https://localhost:8080/",
          "height": 561
        }
      },
      "cell_type": "code",
      "source": [
        "model.fit_generator(train_batches_3,\n",
        "          steps_per_epoch=11,\n",
        "          shuffle=True,\n",
        "          verbose=2,\n",
        "          validation_data=validate_batches_3,\n",
        "          validation_steps=4,\n",
        "          epochs=25,\n",
        "          callbacks=[monitor,checkpointer],\n",
        "          )"
      ],
      "execution_count": 0,
      "outputs": [
        {
          "output_type": "stream",
          "text": [
            "Epoch 1/25\n",
            " - 47s - loss: 8.1341 - acc: 0.3930 - val_loss: 3.3576 - val_acc: 0.6000\n",
            "Epoch 2/25\n",
            " - 31s - loss: 4.8504 - acc: 0.6261 - val_loss: 7.9759 - val_acc: 0.4500\n",
            "Epoch 3/25\n",
            " - 35s - loss: 6.2092 - acc: 0.5790 - val_loss: 6.4784 - val_acc: 0.5750\n",
            "Epoch 4/25\n",
            " - 35s - loss: 5.6161 - acc: 0.6038 - val_loss: 6.0729 - val_acc: 0.6000\n",
            "Epoch 5/25\n",
            " - 35s - loss: 4.1724 - acc: 0.6440 - val_loss: 3.2139 - val_acc: 0.7250\n",
            "Epoch 6/25\n",
            " - 34s - loss: 3.3552 - acc: 0.6701 - val_loss: 4.3184 - val_acc: 0.5250\n",
            "Epoch 7/25\n",
            " - 35s - loss: 2.0066 - acc: 0.7809 - val_loss: 2.0375 - val_acc: 0.7500\n",
            "Epoch 8/25\n",
            " - 35s - loss: 0.8603 - acc: 0.8650 - val_loss: 1.7942 - val_acc: 0.6500\n",
            "Epoch 9/25\n",
            " - 34s - loss: 0.4365 - acc: 0.9000 - val_loss: 2.4214 - val_acc: 0.6500\n",
            "Epoch 10/25\n",
            " - 34s - loss: 0.2815 - acc: 0.9440 - val_loss: 1.7093 - val_acc: 0.6250\n",
            "Epoch 11/25\n",
            " - 33s - loss: 0.2627 - acc: 0.9280 - val_loss: 1.3826 - val_acc: 0.6750\n",
            "Epoch 12/25\n",
            " - 34s - loss: 0.0511 - acc: 0.9790 - val_loss: 1.9144 - val_acc: 0.7250\n",
            "Epoch 13/25\n",
            " - 33s - loss: 0.0258 - acc: 0.9930 - val_loss: 1.8204 - val_acc: 0.7000\n",
            "Epoch 14/25\n",
            " - 34s - loss: 0.0115 - acc: 0.9930 - val_loss: 1.8103 - val_acc: 0.7250\n",
            "Epoch 15/25\n",
            " - 33s - loss: 0.0371 - acc: 0.9860 - val_loss: 2.2981 - val_acc: 0.6750\n",
            "Epoch 00015: early stopping\n"
          ],
          "name": "stdout"
        },
        {
          "output_type": "execute_result",
          "data": {
            "text/plain": [
              "<keras.callbacks.History at 0x7f1d17641c18>"
            ]
          },
          "metadata": {
            "tags": []
          },
          "execution_count": 167
        }
      ]
    },
    {
      "metadata": {
        "colab_type": "code",
        "id": "mXfH7xax55jt",
        "colab": {}
      },
      "cell_type": "code",
      "source": [
        "predictions_valid = model.predict(img_test_3, verbose=2)"
      ],
      "execution_count": 0,
      "outputs": []
    },
    {
      "metadata": {
        "colab_type": "code",
        "outputId": "aae64191-9a2f-4927-d483-e6469ff35284",
        "id": "2R1OHt1P55jv",
        "colab": {
          "base_uri": "https://localhost:8080/",
          "height": 238
        }
      },
      "cell_type": "code",
      "source": [
        "predictions_valid"
      ],
      "execution_count": 0,
      "outputs": [
        {
          "output_type": "execute_result",
          "data": {
            "text/plain": [
              "array([[7.8279103e-05, 9.9991977e-01, 1.9551353e-06],\n",
              "       [1.0364400e-03, 9.6518719e-01, 3.3776339e-02],\n",
              "       [3.8430142e-36, 8.8201671e-21, 1.0000000e+00],\n",
              "       [0.0000000e+00, 2.4336126e-24, 1.0000000e+00],\n",
              "       [1.2321110e-17, 9.9937576e-01, 6.2426622e-04],\n",
              "       [9.9914777e-01, 7.9670700e-04, 5.5508466e-05],\n",
              "       [2.0382177e-18, 8.3112684e-07, 9.9999917e-01],\n",
              "       [6.9700224e-17, 3.4958660e-07, 9.9999964e-01],\n",
              "       [9.9927849e-01, 7.2153326e-04, 6.2604945e-13],\n",
              "       [9.9996638e-01, 3.3668897e-05, 1.8301784e-10],\n",
              "       [1.0000000e+00, 1.6955734e-11, 8.8870704e-14],\n",
              "       [5.6127221e-05, 2.7651897e-02, 9.7229195e-01],\n",
              "       [1.2615683e-03, 1.6614062e-01, 8.3259785e-01]], dtype=float32)"
            ]
          },
          "metadata": {
            "tags": []
          },
          "execution_count": 169
        }
      ]
    },
    {
      "metadata": {
        "colab_type": "code",
        "outputId": "30282efe-2650-4f0a-c65e-f480c4fb8077",
        "id": "7vY4x0lZ55j3",
        "colab": {
          "base_uri": "https://localhost:8080/",
          "height": 34
        }
      },
      "cell_type": "code",
      "source": [
        "pre = np.argmax(predictions_valid,axis=1)\n",
        "pre"
      ],
      "execution_count": 0,
      "outputs": [
        {
          "output_type": "execute_result",
          "data": {
            "text/plain": [
              "array([1, 1, 2, 2, 1, 0, 2, 2, 0, 0, 0, 2, 2])"
            ]
          },
          "metadata": {
            "tags": []
          },
          "execution_count": 170
        }
      ]
    },
    {
      "metadata": {
        "colab_type": "code",
        "outputId": "339fbcda-314c-44c3-c2d0-9d7f0cfe3fbb",
        "id": "cz6v9WS455kB",
        "colab": {
          "base_uri": "https://localhost:8080/",
          "height": 34
        }
      },
      "cell_type": "code",
      "source": [
        "label_t = np.argmax(label_test_3,axis=1)\n",
        "label_t"
      ],
      "execution_count": 0,
      "outputs": [
        {
          "output_type": "execute_result",
          "data": {
            "text/plain": [
              "array([1, 1, 2, 2, 2, 0, 2, 2, 0, 0, 0, 1, 2])"
            ]
          },
          "metadata": {
            "tags": []
          },
          "execution_count": 171
        }
      ]
    },
    {
      "metadata": {
        "id": "jgi3_RzWZiPX",
        "colab_type": "code",
        "outputId": "168688cd-07a6-4252-c7e3-4718647d37d9",
        "colab": {
          "base_uri": "https://localhost:8080/",
          "height": 106
        }
      },
      "cell_type": "code",
      "source": [
        "plots(img_test_3,titles=label_test_3)"
      ],
      "execution_count": 0,
      "outputs": [
        {
          "output_type": "display_data",
          "data": {
            "image/png": "[encoded data removed]",
            "text/plain": [
              "<matplotlib.figure.Figure at 0x7f1cff70c4e0>"
            ]
          },
          "metadata": {
            "tags": []
          }
        }
      ]
    },
    {
      "metadata": {
        "colab_type": "code",
        "id": "Io8KryI455kG",
        "colab": {}
      },
      "cell_type": "code",
      "source": [
        "cm = confusion_matrix(label_t,pre)"
      ],
      "execution_count": 0,
      "outputs": []
    },
    {
      "metadata": {
        "colab_type": "code",
        "outputId": "0e46fb75-4999-41fa-95fe-a64300e4b294",
        "id": "SDG4Z14E55kJ",
        "colab": {
          "base_uri": "https://localhost:8080/",
          "height": 568
        }
      },
      "cell_type": "code",
      "source": [
        "#accuracy\n",
        "score = metrics.accuracy_score(label_t, pre)\n",
        "print(\"Final accuracy: {}\".format(score))\n",
        "\n",
        "plt.figure()\n",
        "plot_confusion_matrix(cm,['No Car', 'One Car', 'Multiple Cars'])\n",
        "plt.show()\n",
        "\n",
        "print(metrics.classification_report(label_t, pre))"
      ],
      "execution_count": 0,
      "outputs": [
        {
          "output_type": "stream",
          "text": [
            "Final accuracy: 0.8461538461538461\n"
          ],
          "name": "stdout"
        },
        {
          "output_type": "display_data",
          "data": {
            "image/png": "[encoded data removed]",
            "text/plain": [
              "<matplotlib.figure.Figure at 0x7f1d5dab5860>"
            ]
          },
          "metadata": {
            "tags": []
          }
        },
        {
          "output_type": "stream",
          "text": [
            "             precision    recall  f1-score   support\n",
            "\n",
            "          0       1.00      1.00      1.00         4\n",
            "          1       0.67      0.67      0.67         3\n",
            "          2       0.83      0.83      0.83         6\n",
            "\n",
            "avg / total       0.85      0.85      0.85        13\n",
            "\n"
          ],
          "name": "stdout"
        }
      ]
    },
    {
      "metadata": {
        "id": "j4kfzdd_5-4Z",
        "colab_type": "text"
      },
      "cell_type": "markdown",
      "source": [
        "# 2 Categories "
      ]
    },
    {
      "metadata": {
        "id": "See8X_mBrh8B",
        "colab_type": "code",
        "colab": {}
      },
      "cell_type": "code",
      "source": [
        "cars_downloaded_2 = drive.CreateFile({'id': '1CzraghJaUPymHVWaUc8jhYNEuLyzQ5ty'})\n",
        "cars_downloaded_2.GetContentFile('new new cars.zip')"
      ],
      "execution_count": 0,
      "outputs": []
    },
    {
      "metadata": {
        "id": "ArHxN-KDrcHH",
        "colab_type": "code",
        "colab": {}
      },
      "cell_type": "code",
      "source": [
        "!unzip 'new new cars.zip'"
      ],
      "execution_count": 0,
      "outputs": []
    },
    {
      "metadata": {
        "id": "1S6A7hm21JgP",
        "colab_type": "code",
        "colab": {}
      },
      "cell_type": "code",
      "source": [
        "train_path = 'new cars/train'\n",
        "test_path = 'new cars/test'\n",
        "validate_path = 'new cars/validate'"
      ],
      "execution_count": 0,
      "outputs": []
    },
    {
      "metadata": {
        "id": "hMSPOEwIUXXf",
        "colab_type": "text"
      },
      "cell_type": "markdown",
      "source": [
        "**Generating labels from image data**"
      ]
    },
    {
      "metadata": {
        "id": "ifQbwDFI1MAm",
        "colab_type": "code",
        "outputId": "b97bbaf3-ea2b-40a2-f5f7-b32fad2925e3",
        "colab": {
          "base_uri": "https://localhost:8080/",
          "height": 34
        }
      },
      "cell_type": "code",
      "source": [
        "train_batches = ImageDataGenerator().flow_from_directory(\n",
        "    directory=train_path,\n",
        "    target_size=(224, 224),\n",
        "    color_mode=\"rgb\",\n",
        "    batch_size = 13,\n",
        "    classes = ['no_car','multiple_cars']\n",
        "    )"
      ],
      "execution_count": 0,
      "outputs": [
        {
          "output_type": "stream",
          "text": [
            "Found 140 images belonging to 2 classes.\n"
          ],
          "name": "stdout"
        }
      ]
    },
    {
      "metadata": {
        "id": "PHtm0fogpOS3",
        "colab_type": "code",
        "outputId": "2807c930-c8b9-4b2a-bca9-0a37bd9e9484",
        "colab": {
          "base_uri": "https://localhost:8080/",
          "height": 34
        }
      },
      "cell_type": "code",
      "source": [
        "validate_batches = ImageDataGenerator().flow_from_directory(\n",
        "    directory=validate_path,\n",
        "    target_size=(224, 224),\n",
        "    color_mode=\"rgb\",\n",
        "    batch_size = 13,\n",
        "    classes = ['no_car','multiple_cars']\n",
        "    )"
      ],
      "execution_count": 0,
      "outputs": [
        {
          "output_type": "stream",
          "text": [
            "Found 40 images belonging to 2 classes.\n"
          ],
          "name": "stdout"
        }
      ]
    },
    {
      "metadata": {
        "id": "zMdfhMK01MvW",
        "colab_type": "code",
        "outputId": "8fb562e0-1c8a-4ed2-b030-66574e851e46",
        "colab": {
          "base_uri": "https://localhost:8080/",
          "height": 34
        }
      },
      "cell_type": "code",
      "source": [
        "test_batches = ImageDataGenerator().flow_from_directory(\n",
        "    directory=test_path,\n",
        "    target_size=(224, 224),\n",
        "    color_mode=\"rgb\",\n",
        "    #batch_size = 10,\n",
        "    classes = ['no_car','multiple_cars']\n",
        "    )"
      ],
      "execution_count": 0,
      "outputs": [
        {
          "output_type": "stream",
          "text": [
            "Found 19 images belonging to 2 classes.\n"
          ],
          "name": "stdout"
        }
      ]
    },
    {
      "metadata": {
        "id": "pUYmsY6-1QY_",
        "colab_type": "code",
        "colab": {}
      },
      "cell_type": "code",
      "source": [
        "img_train,label_train = next(train_batches)"
      ],
      "execution_count": 0,
      "outputs": []
    },
    {
      "metadata": {
        "id": "wRYCXJoQ2ctA",
        "colab_type": "code",
        "outputId": "00af9b01-afd0-4760-de0f-6cacdc09f342",
        "colab": {
          "base_uri": "https://localhost:8080/",
          "height": 106
        }
      },
      "cell_type": "code",
      "source": [
        "plots(img_train,titles=label_train)"
      ],
      "execution_count": 0,
      "outputs": [
        {
          "output_type": "display_data",
          "data": {
            "image/png": "[encoded data removed]",
            "text/plain": [
              "<matplotlib.figure.Figure at 0x7fd055ed1470>"
            ]
          },
          "metadata": {
            "tags": []
          }
        }
      ]
    },
    {
      "metadata": {
        "id": "_NNEuI3_2f9k",
        "colab_type": "code",
        "colab": {}
      },
      "cell_type": "code",
      "source": [
        "img_test,label_test = next(test_batches)"
      ],
      "execution_count": 0,
      "outputs": []
    },
    {
      "metadata": {
        "id": "tfWq8qPtEUkY",
        "colab_type": "code",
        "colab": {}
      },
      "cell_type": "code",
      "source": [
        "img_validate,label_validate = next(validate_batches)"
      ],
      "execution_count": 0,
      "outputs": []
    },
    {
      "metadata": {
        "id": "zI7vLlgHtY07",
        "colab_type": "code",
        "outputId": "b409d738-98ed-420a-ef49-394fbfd95a17",
        "colab": {
          "base_uri": "https://localhost:8080/",
          "height": 34
        }
      },
      "cell_type": "code",
      "source": [
        "img_validate.shape"
      ],
      "execution_count": 0,
      "outputs": [
        {
          "output_type": "execute_result",
          "data": {
            "text/plain": [
              "(13, 224, 224, 3)"
            ]
          },
          "metadata": {
            "tags": []
          },
          "execution_count": 31
        }
      ]
    },
    {
      "metadata": {
        "id": "Olkfs6Icxsgp",
        "colab_type": "text"
      },
      "cell_type": "markdown",
      "source": [
        "## VGG16"
      ]
    },
    {
      "metadata": {
        "id": "E5LuZpiJVoO8",
        "colab_type": "text"
      },
      "cell_type": "markdown",
      "source": [
        "**Loading Model**"
      ]
    },
    {
      "metadata": {
        "id": "grPE-k822kEm",
        "colab_type": "code",
        "colab": {}
      },
      "cell_type": "code",
      "source": [
        "import keras\n",
        "import numpy as np\n",
        "from keras.applications import vgg16, inception_v3, resnet50, mobilenet\n",
        " \n",
        "#Load the VGG model\n",
        "vgg_model = keras.applications.vgg16.VGG16(include_top=False, weights='imagenet', input_tensor=None, input_shape=(224,224,3), pooling=None, classes=1000)"
      ],
      "execution_count": 0,
      "outputs": []
    },
    {
      "metadata": {
        "id": "YZPdEGJr2lkq",
        "colab_type": "code",
        "colab": {}
      },
      "cell_type": "code",
      "source": [
        "processed_image_train = vgg16.preprocess_input(img_train)"
      ],
      "execution_count": 0,
      "outputs": []
    },
    {
      "metadata": {
        "id": "bx0C-s_f2qHt",
        "colab_type": "code",
        "colab": {}
      },
      "cell_type": "code",
      "source": [
        "processed_image_test = vgg16.preprocess_input(img_test)"
      ],
      "execution_count": 0,
      "outputs": []
    },
    {
      "metadata": {
        "id": "mL7Abc5h2ro0",
        "colab_type": "code",
        "colab": {}
      },
      "cell_type": "code",
      "source": [
        "vgg_model.summary()"
      ],
      "execution_count": 0,
      "outputs": []
    },
    {
      "metadata": {
        "id": "W7eU58jBV-4T",
        "colab_type": "text"
      },
      "cell_type": "markdown",
      "source": [
        "**Adding layers of VGG16 model to a new model**"
      ]
    },
    {
      "metadata": {
        "id": "UeArT-jZ2vI4",
        "colab_type": "code",
        "colab": {}
      },
      "cell_type": "code",
      "source": [
        "model = Sequential()\n",
        "for layer in vgg_model.layers:\n",
        "  model.add(layer)"
      ],
      "execution_count": 0,
      "outputs": []
    },
    {
      "metadata": {
        "id": "PYWq6cgpWH2q",
        "colab_type": "text"
      },
      "cell_type": "markdown",
      "source": [
        "**Freezing the all layers of new model**"
      ]
    },
    {
      "metadata": {
        "id": "okhoC_sN2ylR",
        "colab_type": "code",
        "colab": {}
      },
      "cell_type": "code",
      "source": [
        "for layer in model.layers:\n",
        "  layer.trainable = False"
      ],
      "execution_count": 0,
      "outputs": []
    },
    {
      "metadata": {
        "id": "r5jVwQk5J3yp",
        "colab_type": "code",
        "outputId": "3754c757-ba98-4efd-fc9c-f9b627807cfb",
        "colab": {
          "base_uri": "https://localhost:8080/",
          "height": 34
        }
      },
      "cell_type": "code",
      "source": [
        "vgg_model.output_shape[1:]"
      ],
      "execution_count": 0,
      "outputs": [
        {
          "output_type": "execute_result",
          "data": {
            "text/plain": [
              "(7, 7, 512)"
            ]
          },
          "metadata": {
            "tags": []
          },
          "execution_count": 151
        }
      ]
    },
    {
      "metadata": {
        "id": "WouqzH8UWQeV",
        "colab_type": "text"
      },
      "cell_type": "markdown",
      "source": [
        "**Adding new layers on top to train**"
      ]
    },
    {
      "metadata": {
        "id": "SkRiTJ0vFIBN",
        "colab_type": "code",
        "colab": {}
      },
      "cell_type": "code",
      "source": [
        "model.add(Flatten(input_shape=model.output_shape[1:]))\n",
        "model.add(Dense(256, activation='relu'))\n",
        "model.add(Dropout(0.5))\n",
        "model.add(Dense(2, activation='softmax'))"
      ],
      "execution_count": 0,
      "outputs": []
    },
    {
      "metadata": {
        "id": "gfzFL1NO20RX",
        "colab_type": "code",
        "colab": {}
      },
      "cell_type": "code",
      "source": [
        "model.summary()"
      ],
      "execution_count": 0,
      "outputs": []
    },
    {
      "metadata": {
        "id": "SFefgVBn21uM",
        "colab_type": "code",
        "colab": {}
      },
      "cell_type": "code",
      "source": [
        "model.compile(Adam(lr=.0001), loss='categorical_crossentropy', metrics=['accuracy'])"
      ],
      "execution_count": 0,
      "outputs": []
    },
    {
      "metadata": {
        "id": "6XYUoHsx24Ds",
        "colab_type": "code",
        "outputId": "5e96fb7e-1c51-41f9-bf2c-3dc0fe4423eb",
        "colab": {
          "base_uri": "https://localhost:8080/",
          "height": 204
        }
      },
      "cell_type": "code",
      "source": [
        "model.fit_generator(train_batches,\n",
        "          steps_per_epoch=11,\n",
        "          shuffle=True,\n",
        "          verbose=2,\n",
        "          validation_data=validate_batches,\n",
        "          validation_steps=4,\n",
        "          epochs=5\n",
        "          )"
      ],
      "execution_count": 0,
      "outputs": [
        {
          "output_type": "stream",
          "text": [
            "Epoch 1/5\n",
            " - 40s - loss: 4.1750 - acc: 0.6618 - val_loss: 4.2427 - val_acc: 0.6750\n",
            "Epoch 2/5\n",
            " - 31s - loss: 1.4121 - acc: 0.8949 - val_loss: 0.2725 - val_acc: 0.9500\n",
            "Epoch 3/5\n",
            " - 32s - loss: 0.5490 - acc: 0.9611 - val_loss: 0.1599 - val_acc: 0.9250\n",
            "Epoch 4/5\n",
            " - 32s - loss: 0.2019 - acc: 0.9720 - val_loss: 0.1772 - val_acc: 0.9750\n",
            "Epoch 5/5\n",
            " - 31s - loss: 0.2116 - acc: 0.9771 - val_loss: 3.9506e-06 - val_acc: 1.0000\n"
          ],
          "name": "stdout"
        },
        {
          "output_type": "execute_result",
          "data": {
            "text/plain": [
              "<keras.callbacks.History at 0x7fd007e939e8>"
            ]
          },
          "metadata": {
            "tags": []
          },
          "execution_count": 154
        }
      ]
    },
    {
      "metadata": {
        "id": "Zd0LOZfI2524",
        "colab_type": "code",
        "colab": {}
      },
      "cell_type": "code",
      "source": [
        "predictions_valid = model.predict(img_test, verbose=2)"
      ],
      "execution_count": 0,
      "outputs": []
    },
    {
      "metadata": {
        "id": "y5nM6Uab276i",
        "colab_type": "code",
        "outputId": "853e2320-099c-4798-cb5c-313b0307a87b",
        "colab": {
          "base_uri": "https://localhost:8080/",
          "height": 340
        }
      },
      "cell_type": "code",
      "source": [
        "predictions_valid"
      ],
      "execution_count": 0,
      "outputs": [
        {
          "output_type": "execute_result",
          "data": {
            "text/plain": [
              "array([[0.0000000e+00, 1.0000000e+00],\n",
              "       [1.0000000e+00, 1.3536034e-27],\n",
              "       [0.0000000e+00, 1.0000000e+00],\n",
              "       [0.0000000e+00, 1.0000000e+00],\n",
              "       [1.2282458e-27, 1.0000000e+00],\n",
              "       [1.0000000e+00, 1.3334794e-31],\n",
              "       [2.7517998e-33, 1.0000000e+00],\n",
              "       [0.0000000e+00, 1.0000000e+00],\n",
              "       [1.0000000e+00, 1.0446335e-24],\n",
              "       [1.0000000e+00, 1.3469381e-27],\n",
              "       [2.9371060e-02, 9.7062892e-01],\n",
              "       [1.7957168e-21, 1.0000000e+00],\n",
              "       [0.0000000e+00, 1.0000000e+00],\n",
              "       [3.0262708e-21, 1.0000000e+00],\n",
              "       [1.3077363e-06, 9.9999869e-01],\n",
              "       [0.0000000e+00, 1.0000000e+00],\n",
              "       [1.5000866e-27, 1.0000000e+00],\n",
              "       [3.1801028e-23, 1.0000000e+00],\n",
              "       [1.2864456e-25, 1.0000000e+00]], dtype=float32)"
            ]
          },
          "metadata": {
            "tags": []
          },
          "execution_count": 156
        }
      ]
    },
    {
      "metadata": {
        "id": "3p1hzKtK2zaG",
        "colab_type": "code",
        "outputId": "6611b133-2719-444c-a04c-e3932304260d",
        "colab": {
          "base_uri": "https://localhost:8080/",
          "height": 34
        }
      },
      "cell_type": "code",
      "source": [
        "pre = np.argmax(predictions_valid,axis=1)\n",
        "pre"
      ],
      "execution_count": 0,
      "outputs": [
        {
          "output_type": "execute_result",
          "data": {
            "text/plain": [
              "array([1, 0, 1, 1, 1, 0, 1, 1, 0, 0, 1, 1, 1, 1, 1, 1, 1, 1, 1])"
            ]
          },
          "metadata": {
            "tags": []
          },
          "execution_count": 157
        }
      ]
    },
    {
      "metadata": {
        "id": "tFu31XWs23wJ",
        "colab_type": "code",
        "outputId": "a8861d41-bac7-4fee-889e-ab4c2471f803",
        "colab": {
          "base_uri": "https://localhost:8080/",
          "height": 34
        }
      },
      "cell_type": "code",
      "source": [
        "label_t = np.argmax(label_test,axis=1)\n",
        "label_t"
      ],
      "execution_count": 0,
      "outputs": [
        {
          "output_type": "execute_result",
          "data": {
            "text/plain": [
              "array([1, 0, 1, 1, 1, 0, 1, 1, 0, 0, 1, 1, 1, 1, 1, 1, 1, 1, 1])"
            ]
          },
          "metadata": {
            "tags": []
          },
          "execution_count": 158
        }
      ]
    },
    {
      "metadata": {
        "id": "UcYOz0Bt2kqP",
        "colab_type": "code",
        "colab": {}
      },
      "cell_type": "code",
      "source": [
        "cm = confusion_matrix(label_t,pre)"
      ],
      "execution_count": 0,
      "outputs": []
    },
    {
      "metadata": {
        "id": "9MRfARRg1tqZ",
        "colab_type": "code",
        "outputId": "dc0784bf-2233-40e2-e96d-7811e1fed1b8",
        "colab": {
          "base_uri": "https://localhost:8080/",
          "height": 551
        }
      },
      "cell_type": "code",
      "source": [
        "#accuracy\n",
        "score = metrics.accuracy_score(label_t, pre)\n",
        "print(\"Final accuracy: {}\".format(score))\n",
        "\n",
        "plt.figure()\n",
        "plot_confusion_matrix(cm,['No Car','Multiple Cars'])\n",
        "plt.show()\n",
        "\n",
        "print(metrics.classification_report(label_t, pre))"
      ],
      "execution_count": 0,
      "outputs": [
        {
          "output_type": "stream",
          "text": [
            "Final accuracy: 1.0\n"
          ],
          "name": "stdout"
        },
        {
          "output_type": "display_data",
          "data": {
            "image/png": "[encoded data removed]",
            "text/plain": [
              "<matplotlib.figure.Figure at 0x7fd055f190b8>"
            ]
          },
          "metadata": {
            "tags": []
          }
        },
        {
          "output_type": "stream",
          "text": [
            "             precision    recall  f1-score   support\n",
            "\n",
            "          0       1.00      1.00      1.00         4\n",
            "          1       1.00      1.00      1.00        15\n",
            "\n",
            "avg / total       1.00      1.00      1.00        19\n",
            "\n"
          ],
          "name": "stdout"
        }
      ]
    },
    {
      "metadata": {
        "id": "9vnhSN1lxxz3",
        "colab_type": "text"
      },
      "cell_type": "markdown",
      "source": [
        "## CNN"
      ]
    },
    {
      "metadata": {
        "id": "lH0vMUrcyYli",
        "colab_type": "code",
        "colab": {}
      },
      "cell_type": "code",
      "source": [
        "cnn_model = Sequential([\n",
        "    Conv2D(1024,(3,3),activation='relu',input_shape=(224,224,3)),\n",
        "    Flatten(), \n",
        "    Dense(256, activation='relu'),\n",
        "    Dropout(0.5),\n",
        "    Dense(2,activation='softmax')\n",
        "])"
      ],
      "execution_count": 0,
      "outputs": []
    },
    {
      "metadata": {
        "id": "2ITUfRClyZNS",
        "colab_type": "code",
        "colab": {}
      },
      "cell_type": "code",
      "source": [
        "cnn_model.compile(Adam(lr=.0001), loss='categorical_crossentropy', metrics=['accuracy'])"
      ],
      "execution_count": 0,
      "outputs": []
    },
    {
      "metadata": {
        "id": "q1vZcs8ByakV",
        "colab_type": "code",
        "outputId": "c5b24b32-63c1-491d-f646-34293ddb92eb",
        "colab": {
          "base_uri": "https://localhost:8080/",
          "height": 204
        }
      },
      "cell_type": "code",
      "source": [
        "cnn_model.fit_generator(train_batches,\n",
        "          steps_per_epoch=11,\n",
        "          shuffle=True,\n",
        "          verbose=2,\n",
        "          validation_data=validate_batches,\n",
        "          validation_steps=4,\n",
        "          epochs=5\n",
        "          )"
      ],
      "execution_count": 0,
      "outputs": [
        {
          "output_type": "stream",
          "text": [
            "Epoch 1/5\n",
            " - 40s - loss: 4.5788 - acc: 0.7140 - val_loss: 6.8502 - val_acc: 0.5750\n",
            "Epoch 2/5\n",
            " - 31s - loss: 4.4967 - acc: 0.7210 - val_loss: 5.6413 - val_acc: 0.6500\n",
            "Epoch 3/5\n",
            " - 31s - loss: 4.5277 - acc: 0.7191 - val_loss: 7.2531 - val_acc: 0.5500\n",
            "Epoch 4/5\n",
            " - 31s - loss: 4.6915 - acc: 0.7089 - val_loss: 5.2384 - val_acc: 0.6750\n",
            "Epoch 5/5\n",
            " - 31s - loss: 4.8354 - acc: 0.7000 - val_loss: 6.4472 - val_acc: 0.6000\n"
          ],
          "name": "stdout"
        },
        {
          "output_type": "execute_result",
          "data": {
            "text/plain": [
              "<keras.callbacks.History at 0x7fd009cc6b00>"
            ]
          },
          "metadata": {
            "tags": []
          },
          "execution_count": 163
        }
      ]
    },
    {
      "metadata": {
        "id": "wL2Ti8Yr4fhU",
        "colab_type": "code",
        "outputId": "18ece905-028e-4225-cf54-abcbe9caeda3",
        "colab": {
          "base_uri": "https://localhost:8080/",
          "height": 106
        }
      },
      "cell_type": "code",
      "source": [
        "plots(img_test, titles=label_test)"
      ],
      "execution_count": 0,
      "outputs": [
        {
          "output_type": "display_data",
          "data": {
            "image/png": "[encoded data removed]",
            "text/plain": [
              "<matplotlib.figure.Figure at 0x7f50dc800cf8>"
            ]
          },
          "metadata": {
            "tags": []
          }
        }
      ]
    },
    {
      "metadata": {
        "id": "0Qsk-JUvyb5u",
        "colab_type": "code",
        "outputId": "3d9bbfb8-6a6e-4e1b-d011-1f49bfbefde6",
        "colab": {
          "base_uri": "https://localhost:8080/",
          "height": 34
        }
      },
      "cell_type": "code",
      "source": [
        "test_label=label_test[:,0]\n",
        "test_label"
      ],
      "execution_count": 0,
      "outputs": [
        {
          "output_type": "execute_result",
          "data": {
            "text/plain": [
              "array([0., 0., 0., 1., 0., 0., 1., 1., 0., 0., 1., 0., 0.], dtype=float32)"
            ]
          },
          "metadata": {
            "tags": []
          },
          "execution_count": 210
        }
      ]
    },
    {
      "metadata": {
        "id": "PdYq4Kc3ydf8",
        "colab_type": "code",
        "colab": {}
      },
      "cell_type": "code",
      "source": [
        "predictions_valid = cnn_model.predict_generator(test_batches,steps=1, verbose=0)"
      ],
      "execution_count": 0,
      "outputs": []
    },
    {
      "metadata": {
        "id": "9K804HtXyeud",
        "colab_type": "code",
        "outputId": "51b76aba-f577-4779-bab8-2171df5b1cc3",
        "colab": {
          "base_uri": "https://localhost:8080/",
          "height": 51
        }
      },
      "cell_type": "code",
      "source": [
        "predictions_valid[:,0]"
      ],
      "execution_count": 0,
      "outputs": [
        {
          "output_type": "execute_result",
          "data": {
            "text/plain": [
              "array([0., 0., 0., 0., 0., 0., 0., 0., 0., 0., 0., 0., 0., 0., 0., 0., 0.,\n",
              "       0., 0.], dtype=float32)"
            ]
          },
          "metadata": {
            "tags": []
          },
          "execution_count": 165
        }
      ]
    },
    {
      "metadata": {
        "id": "NRyorp2q5PUm",
        "colab_type": "code",
        "colab": {}
      },
      "cell_type": "code",
      "source": [
        "cm = confusion_matrix(label_test[:,0], predictions_valid[:,0])"
      ],
      "execution_count": 0,
      "outputs": []
    },
    {
      "metadata": {
        "id": "rwrWqC2m7d_r",
        "colab_type": "code",
        "outputId": "19ec8607-7471-4cc2-9903-1e7acb0f0eb2",
        "colab": {
          "base_uri": "https://localhost:8080/",
          "height": 605
        }
      },
      "cell_type": "code",
      "source": [
        "#accuracy\n",
        "score = metrics.accuracy_score(label_test[:,0], predictions_valid[:,0])\n",
        "print(\"Final accuracy: {}\".format(score))\n",
        "\n",
        "plt.figure()\n",
        "plot_confusion_matrix(cm,['No Car','Multiple Cars'])\n",
        "plt.show()\n",
        "\n",
        "print(metrics.classification_report(label_test[:,0], predictions_valid[:,0]))"
      ],
      "execution_count": 0,
      "outputs": [
        {
          "output_type": "stream",
          "text": [
            "Final accuracy: 0.7894736842105263\n"
          ],
          "name": "stdout"
        },
        {
          "output_type": "display_data",
          "data": {
            "image/png": "[encoded data removed]",
            "text/plain": [
              "<matplotlib.figure.Figure at 0x7fd009b07d30>"
            ]
          },
          "metadata": {
            "tags": []
          }
        },
        {
          "output_type": "stream",
          "text": [
            "             precision    recall  f1-score   support\n",
            "\n",
            "        0.0       0.79      1.00      0.88        15\n",
            "        1.0       0.00      0.00      0.00         4\n",
            "\n",
            "avg / total       0.62      0.79      0.70        19\n",
            "\n"
          ],
          "name": "stdout"
        },
        {
          "output_type": "stream",
          "text": [
            "/usr/local/lib/python3.6/dist-packages/sklearn/metrics/classification.py:1135: UndefinedMetricWarning: Precision and F-score are ill-defined and being set to 0.0 in labels with no predicted samples.\n",
            "  'precision', 'predicted', average, warn_for)\n"
          ],
          "name": "stderr"
        }
      ]
    },
    {
      "metadata": {
        "id": "SjgwvrFH-A3l",
        "colab_type": "text"
      },
      "cell_type": "markdown",
      "source": [
        "## Inception"
      ]
    },
    {
      "metadata": {
        "id": "Bgk-pXs-XY5A",
        "colab_type": "text"
      },
      "cell_type": "markdown",
      "source": [
        "**Loading the InceptionV3 Model, adding top layers and freezing the layers in base_model**"
      ]
    },
    {
      "metadata": {
        "id": "Ffjq7rZCEs8M",
        "colab_type": "code",
        "colab": {}
      },
      "cell_type": "code",
      "source": [
        "base_model = keras.applications.inception_v3.InceptionV3(weights='imagenet', include_top=False)\n",
        "\n",
        "x = base_model.output\n",
        "x = GlobalAveragePooling2D()(x)\n",
        "x = Dense(1024, activation='relu')(x)\n",
        "x = Dropout(0.5)(x)\n",
        "predictions = Dense(2, activation='softmax')(x)\n",
        "\n",
        "model = Model(inputs=base_model.input, outputs=predictions)\n",
        "\n",
        "for layer in base_model.layers:\n",
        "    layer.trainable = False"
      ],
      "execution_count": 0,
      "outputs": []
    },
    {
      "metadata": {
        "id": "bZse-WzNGMSP",
        "colab_type": "code",
        "outputId": "92c3a308-c3b3-4679-de27-475568489610",
        "colab": {
          "base_uri": "https://localhost:8080/",
          "height": 11441
        }
      },
      "cell_type": "code",
      "source": [
        "model.summary()"
      ],
      "execution_count": 0,
      "outputs": [
        {
          "output_type": "stream",
          "text": [
            "__________________________________________________________________________________________________\n",
            "Layer (type)                    Output Shape         Param #     Connected to                     \n",
            "==================================================================================================\n",
            "input_13 (InputLayer)           (None, None, None, 3 0                                            \n",
            "__________________________________________________________________________________________________\n",
            "conv2d_1129 (Conv2D)            (None, None, None, 3 864         input_13[0][0]                   \n",
            "__________________________________________________________________________________________________\n",
            "batch_normalization_1129 (Batch (None, None, None, 3 96          conv2d_1129[0][0]                \n",
            "__________________________________________________________________________________________________\n",
            "activation_1129 (Activation)    (None, None, None, 3 0           batch_normalization_1129[0][0]   \n",
            "__________________________________________________________________________________________________\n",
            "conv2d_1130 (Conv2D)            (None, None, None, 3 9216        activation_1129[0][0]            \n",
            "__________________________________________________________________________________________________\n",
            "batch_normalization_1130 (Batch (None, None, None, 3 96          conv2d_1130[0][0]                \n",
            "__________________________________________________________________________________________________\n",
            "activation_1130 (Activation)    (None, None, None, 3 0           batch_normalization_1130[0][0]   \n",
            "__________________________________________________________________________________________________\n",
            "conv2d_1131 (Conv2D)            (None, None, None, 6 18432       activation_1130[0][0]            \n",
            "__________________________________________________________________________________________________\n",
            "batch_normalization_1131 (Batch (None, None, None, 6 192         conv2d_1131[0][0]                \n",
            "__________________________________________________________________________________________________\n",
            "activation_1131 (Activation)    (None, None, None, 6 0           batch_normalization_1131[0][0]   \n",
            "__________________________________________________________________________________________________\n",
            "max_pooling2d_49 (MaxPooling2D) (None, None, None, 6 0           activation_1131[0][0]            \n",
            "__________________________________________________________________________________________________\n",
            "conv2d_1132 (Conv2D)            (None, None, None, 8 5120        max_pooling2d_49[0][0]           \n",
            "__________________________________________________________________________________________________\n",
            "batch_normalization_1132 (Batch (None, None, None, 8 240         conv2d_1132[0][0]                \n",
            "__________________________________________________________________________________________________\n",
            "activation_1132 (Activation)    (None, None, None, 8 0           batch_normalization_1132[0][0]   \n",
            "__________________________________________________________________________________________________\n",
            "conv2d_1133 (Conv2D)            (None, None, None, 1 138240      activation_1132[0][0]            \n",
            "__________________________________________________________________________________________________\n",
            "batch_normalization_1133 (Batch (None, None, None, 1 576         conv2d_1133[0][0]                \n",
            "__________________________________________________________________________________________________\n",
            "activation_1133 (Activation)    (None, None, None, 1 0           batch_normalization_1133[0][0]   \n",
            "__________________________________________________________________________________________________\n",
            "max_pooling2d_50 (MaxPooling2D) (None, None, None, 1 0           activation_1133[0][0]            \n",
            "__________________________________________________________________________________________________\n",
            "conv2d_1137 (Conv2D)            (None, None, None, 6 12288       max_pooling2d_50[0][0]           \n",
            "__________________________________________________________________________________________________\n",
            "batch_normalization_1137 (Batch (None, None, None, 6 192         conv2d_1137[0][0]                \n",
            "__________________________________________________________________________________________________\n",
            "activation_1137 (Activation)    (None, None, None, 6 0           batch_normalization_1137[0][0]   \n",
            "__________________________________________________________________________________________________\n",
            "conv2d_1135 (Conv2D)            (None, None, None, 4 9216        max_pooling2d_50[0][0]           \n",
            "__________________________________________________________________________________________________\n",
            "conv2d_1138 (Conv2D)            (None, None, None, 9 55296       activation_1137[0][0]            \n",
            "__________________________________________________________________________________________________\n",
            "batch_normalization_1135 (Batch (None, None, None, 4 144         conv2d_1135[0][0]                \n",
            "__________________________________________________________________________________________________\n",
            "batch_normalization_1138 (Batch (None, None, None, 9 288         conv2d_1138[0][0]                \n",
            "__________________________________________________________________________________________________\n",
            "activation_1135 (Activation)    (None, None, None, 4 0           batch_normalization_1135[0][0]   \n",
            "__________________________________________________________________________________________________\n",
            "activation_1138 (Activation)    (None, None, None, 9 0           batch_normalization_1138[0][0]   \n",
            "__________________________________________________________________________________________________\n",
            "average_pooling2d_109 (AverageP (None, None, None, 1 0           max_pooling2d_50[0][0]           \n",
            "__________________________________________________________________________________________________\n",
            "conv2d_1134 (Conv2D)            (None, None, None, 6 12288       max_pooling2d_50[0][0]           \n",
            "__________________________________________________________________________________________________\n",
            "conv2d_1136 (Conv2D)            (None, None, None, 6 76800       activation_1135[0][0]            \n",
            "__________________________________________________________________________________________________\n",
            "conv2d_1139 (Conv2D)            (None, None, None, 9 82944       activation_1138[0][0]            \n",
            "__________________________________________________________________________________________________\n",
            "conv2d_1140 (Conv2D)            (None, None, None, 3 6144        average_pooling2d_109[0][0]      \n",
            "__________________________________________________________________________________________________\n",
            "batch_normalization_1134 (Batch (None, None, None, 6 192         conv2d_1134[0][0]                \n",
            "__________________________________________________________________________________________________\n",
            "batch_normalization_1136 (Batch (None, None, None, 6 192         conv2d_1136[0][0]                \n",
            "__________________________________________________________________________________________________\n",
            "batch_normalization_1139 (Batch (None, None, None, 9 288         conv2d_1139[0][0]                \n",
            "__________________________________________________________________________________________________\n",
            "batch_normalization_1140 (Batch (None, None, None, 3 96          conv2d_1140[0][0]                \n",
            "__________________________________________________________________________________________________\n",
            "activation_1134 (Activation)    (None, None, None, 6 0           batch_normalization_1134[0][0]   \n",
            "__________________________________________________________________________________________________\n",
            "activation_1136 (Activation)    (None, None, None, 6 0           batch_normalization_1136[0][0]   \n",
            "__________________________________________________________________________________________________\n",
            "activation_1139 (Activation)    (None, None, None, 9 0           batch_normalization_1139[0][0]   \n",
            "__________________________________________________________________________________________________\n",
            "activation_1140 (Activation)    (None, None, None, 3 0           batch_normalization_1140[0][0]   \n",
            "__________________________________________________________________________________________________\n",
            "mixed0 (Concatenate)            (None, None, None, 2 0           activation_1134[0][0]            \n",
            "                                                                 activation_1136[0][0]            \n",
            "                                                                 activation_1139[0][0]            \n",
            "                                                                 activation_1140[0][0]            \n",
            "__________________________________________________________________________________________________\n",
            "conv2d_1144 (Conv2D)            (None, None, None, 6 16384       mixed0[0][0]                     \n",
            "__________________________________________________________________________________________________\n",
            "batch_normalization_1144 (Batch (None, None, None, 6 192         conv2d_1144[0][0]                \n",
            "__________________________________________________________________________________________________\n",
            "activation_1144 (Activation)    (None, None, None, 6 0           batch_normalization_1144[0][0]   \n",
            "__________________________________________________________________________________________________\n",
            "conv2d_1142 (Conv2D)            (None, None, None, 4 12288       mixed0[0][0]                     \n",
            "__________________________________________________________________________________________________\n",
            "conv2d_1145 (Conv2D)            (None, None, None, 9 55296       activation_1144[0][0]            \n",
            "__________________________________________________________________________________________________\n",
            "batch_normalization_1142 (Batch (None, None, None, 4 144         conv2d_1142[0][0]                \n",
            "__________________________________________________________________________________________________\n",
            "batch_normalization_1145 (Batch (None, None, None, 9 288         conv2d_1145[0][0]                \n",
            "__________________________________________________________________________________________________\n",
            "activation_1142 (Activation)    (None, None, None, 4 0           batch_normalization_1142[0][0]   \n",
            "__________________________________________________________________________________________________\n",
            "activation_1145 (Activation)    (None, None, None, 9 0           batch_normalization_1145[0][0]   \n",
            "__________________________________________________________________________________________________\n",
            "average_pooling2d_110 (AverageP (None, None, None, 2 0           mixed0[0][0]                     \n",
            "__________________________________________________________________________________________________\n",
            "conv2d_1141 (Conv2D)            (None, None, None, 6 16384       mixed0[0][0]                     \n",
            "__________________________________________________________________________________________________\n",
            "conv2d_1143 (Conv2D)            (None, None, None, 6 76800       activation_1142[0][0]            \n",
            "__________________________________________________________________________________________________\n",
            "conv2d_1146 (Conv2D)            (None, None, None, 9 82944       activation_1145[0][0]            \n",
            "__________________________________________________________________________________________________\n",
            "conv2d_1147 (Conv2D)            (None, None, None, 6 16384       average_pooling2d_110[0][0]      \n",
            "__________________________________________________________________________________________________\n",
            "batch_normalization_1141 (Batch (None, None, None, 6 192         conv2d_1141[0][0]                \n",
            "__________________________________________________________________________________________________\n",
            "batch_normalization_1143 (Batch (None, None, None, 6 192         conv2d_1143[0][0]                \n",
            "__________________________________________________________________________________________________\n",
            "batch_normalization_1146 (Batch (None, None, None, 9 288         conv2d_1146[0][0]                \n",
            "__________________________________________________________________________________________________\n",
            "batch_normalization_1147 (Batch (None, None, None, 6 192         conv2d_1147[0][0]                \n",
            "__________________________________________________________________________________________________\n",
            "activation_1141 (Activation)    (None, None, None, 6 0           batch_normalization_1141[0][0]   \n",
            "__________________________________________________________________________________________________\n",
            "activation_1143 (Activation)    (None, None, None, 6 0           batch_normalization_1143[0][0]   \n",
            "__________________________________________________________________________________________________\n",
            "activation_1146 (Activation)    (None, None, None, 9 0           batch_normalization_1146[0][0]   \n",
            "__________________________________________________________________________________________________\n",
            "activation_1147 (Activation)    (None, None, None, 6 0           batch_normalization_1147[0][0]   \n",
            "__________________________________________________________________________________________________\n",
            "mixed1 (Concatenate)            (None, None, None, 2 0           activation_1141[0][0]            \n",
            "                                                                 activation_1143[0][0]            \n",
            "                                                                 activation_1146[0][0]            \n",
            "                                                                 activation_1147[0][0]            \n",
            "__________________________________________________________________________________________________\n",
            "conv2d_1151 (Conv2D)            (None, None, None, 6 18432       mixed1[0][0]                     \n",
            "__________________________________________________________________________________________________\n",
            "batch_normalization_1151 (Batch (None, None, None, 6 192         conv2d_1151[0][0]                \n",
            "__________________________________________________________________________________________________\n",
            "activation_1151 (Activation)    (None, None, None, 6 0           batch_normalization_1151[0][0]   \n",
            "__________________________________________________________________________________________________\n",
            "conv2d_1149 (Conv2D)            (None, None, None, 4 13824       mixed1[0][0]                     \n",
            "__________________________________________________________________________________________________\n",
            "conv2d_1152 (Conv2D)            (None, None, None, 9 55296       activation_1151[0][0]            \n",
            "__________________________________________________________________________________________________\n",
            "batch_normalization_1149 (Batch (None, None, None, 4 144         conv2d_1149[0][0]                \n",
            "__________________________________________________________________________________________________\n",
            "batch_normalization_1152 (Batch (None, None, None, 9 288         conv2d_1152[0][0]                \n",
            "__________________________________________________________________________________________________\n",
            "activation_1149 (Activation)    (None, None, None, 4 0           batch_normalization_1149[0][0]   \n",
            "__________________________________________________________________________________________________\n",
            "activation_1152 (Activation)    (None, None, None, 9 0           batch_normalization_1152[0][0]   \n",
            "__________________________________________________________________________________________________\n",
            "average_pooling2d_111 (AverageP (None, None, None, 2 0           mixed1[0][0]                     \n",
            "__________________________________________________________________________________________________\n",
            "conv2d_1148 (Conv2D)            (None, None, None, 6 18432       mixed1[0][0]                     \n",
            "__________________________________________________________________________________________________\n",
            "conv2d_1150 (Conv2D)            (None, None, None, 6 76800       activation_1149[0][0]            \n",
            "__________________________________________________________________________________________________\n",
            "conv2d_1153 (Conv2D)            (None, None, None, 9 82944       activation_1152[0][0]            \n",
            "__________________________________________________________________________________________________\n",
            "conv2d_1154 (Conv2D)            (None, None, None, 6 18432       average_pooling2d_111[0][0]      \n",
            "__________________________________________________________________________________________________\n",
            "batch_normalization_1148 (Batch (None, None, None, 6 192         conv2d_1148[0][0]                \n",
            "__________________________________________________________________________________________________\n",
            "batch_normalization_1150 (Batch (None, None, None, 6 192         conv2d_1150[0][0]                \n",
            "__________________________________________________________________________________________________\n",
            "batch_normalization_1153 (Batch (None, None, None, 9 288         conv2d_1153[0][0]                \n",
            "__________________________________________________________________________________________________\n",
            "batch_normalization_1154 (Batch (None, None, None, 6 192         conv2d_1154[0][0]                \n",
            "__________________________________________________________________________________________________\n",
            "activation_1148 (Activation)    (None, None, None, 6 0           batch_normalization_1148[0][0]   \n",
            "__________________________________________________________________________________________________\n",
            "activation_1150 (Activation)    (None, None, None, 6 0           batch_normalization_1150[0][0]   \n",
            "__________________________________________________________________________________________________\n",
            "activation_1153 (Activation)    (None, None, None, 9 0           batch_normalization_1153[0][0]   \n",
            "__________________________________________________________________________________________________\n",
            "activation_1154 (Activation)    (None, None, None, 6 0           batch_normalization_1154[0][0]   \n",
            "__________________________________________________________________________________________________\n",
            "mixed2 (Concatenate)            (None, None, None, 2 0           activation_1148[0][0]            \n",
            "                                                                 activation_1150[0][0]            \n",
            "                                                                 activation_1153[0][0]            \n",
            "                                                                 activation_1154[0][0]            \n",
            "__________________________________________________________________________________________________\n",
            "conv2d_1156 (Conv2D)            (None, None, None, 6 18432       mixed2[0][0]                     \n",
            "__________________________________________________________________________________________________\n",
            "batch_normalization_1156 (Batch (None, None, None, 6 192         conv2d_1156[0][0]                \n",
            "__________________________________________________________________________________________________\n",
            "activation_1156 (Activation)    (None, None, None, 6 0           batch_normalization_1156[0][0]   \n",
            "__________________________________________________________________________________________________\n",
            "conv2d_1157 (Conv2D)            (None, None, None, 9 55296       activation_1156[0][0]            \n",
            "__________________________________________________________________________________________________\n",
            "batch_normalization_1157 (Batch (None, None, None, 9 288         conv2d_1157[0][0]                \n",
            "__________________________________________________________________________________________________\n",
            "activation_1157 (Activation)    (None, None, None, 9 0           batch_normalization_1157[0][0]   \n",
            "__________________________________________________________________________________________________\n",
            "conv2d_1155 (Conv2D)            (None, None, None, 3 995328      mixed2[0][0]                     \n",
            "__________________________________________________________________________________________________\n",
            "conv2d_1158 (Conv2D)            (None, None, None, 9 82944       activation_1157[0][0]            \n",
            "__________________________________________________________________________________________________\n",
            "batch_normalization_1155 (Batch (None, None, None, 3 1152        conv2d_1155[0][0]                \n",
            "__________________________________________________________________________________________________\n",
            "batch_normalization_1158 (Batch (None, None, None, 9 288         conv2d_1158[0][0]                \n",
            "__________________________________________________________________________________________________\n",
            "activation_1155 (Activation)    (None, None, None, 3 0           batch_normalization_1155[0][0]   \n",
            "__________________________________________________________________________________________________\n",
            "activation_1158 (Activation)    (None, None, None, 9 0           batch_normalization_1158[0][0]   \n",
            "__________________________________________________________________________________________________\n",
            "max_pooling2d_51 (MaxPooling2D) (None, None, None, 2 0           mixed2[0][0]                     \n",
            "__________________________________________________________________________________________________\n",
            "mixed3 (Concatenate)            (None, None, None, 7 0           activation_1155[0][0]            \n",
            "                                                                 activation_1158[0][0]            \n",
            "                                                                 max_pooling2d_51[0][0]           \n",
            "__________________________________________________________________________________________________\n",
            "conv2d_1163 (Conv2D)            (None, None, None, 1 98304       mixed3[0][0]                     \n",
            "__________________________________________________________________________________________________\n",
            "batch_normalization_1163 (Batch (None, None, None, 1 384         conv2d_1163[0][0]                \n",
            "__________________________________________________________________________________________________\n",
            "activation_1163 (Activation)    (None, None, None, 1 0           batch_normalization_1163[0][0]   \n",
            "__________________________________________________________________________________________________\n",
            "conv2d_1164 (Conv2D)            (None, None, None, 1 114688      activation_1163[0][0]            \n",
            "__________________________________________________________________________________________________\n",
            "batch_normalization_1164 (Batch (None, None, None, 1 384         conv2d_1164[0][0]                \n",
            "__________________________________________________________________________________________________\n",
            "activation_1164 (Activation)    (None, None, None, 1 0           batch_normalization_1164[0][0]   \n",
            "__________________________________________________________________________________________________\n",
            "conv2d_1160 (Conv2D)            (None, None, None, 1 98304       mixed3[0][0]                     \n",
            "__________________________________________________________________________________________________\n",
            "conv2d_1165 (Conv2D)            (None, None, None, 1 114688      activation_1164[0][0]            \n",
            "__________________________________________________________________________________________________\n",
            "batch_normalization_1160 (Batch (None, None, None, 1 384         conv2d_1160[0][0]                \n",
            "__________________________________________________________________________________________________\n",
            "batch_normalization_1165 (Batch (None, None, None, 1 384         conv2d_1165[0][0]                \n",
            "__________________________________________________________________________________________________\n",
            "activation_1160 (Activation)    (None, None, None, 1 0           batch_normalization_1160[0][0]   \n",
            "__________________________________________________________________________________________________\n",
            "activation_1165 (Activation)    (None, None, None, 1 0           batch_normalization_1165[0][0]   \n",
            "__________________________________________________________________________________________________\n",
            "conv2d_1161 (Conv2D)            (None, None, None, 1 114688      activation_1160[0][0]            \n",
            "__________________________________________________________________________________________________\n",
            "conv2d_1166 (Conv2D)            (None, None, None, 1 114688      activation_1165[0][0]            \n",
            "__________________________________________________________________________________________________\n",
            "batch_normalization_1161 (Batch (None, None, None, 1 384         conv2d_1161[0][0]                \n",
            "__________________________________________________________________________________________________\n",
            "batch_normalization_1166 (Batch (None, None, None, 1 384         conv2d_1166[0][0]                \n",
            "__________________________________________________________________________________________________\n",
            "activation_1161 (Activation)    (None, None, None, 1 0           batch_normalization_1161[0][0]   \n",
            "__________________________________________________________________________________________________\n",
            "activation_1166 (Activation)    (None, None, None, 1 0           batch_normalization_1166[0][0]   \n",
            "__________________________________________________________________________________________________\n",
            "average_pooling2d_112 (AverageP (None, None, None, 7 0           mixed3[0][0]                     \n",
            "__________________________________________________________________________________________________\n",
            "conv2d_1159 (Conv2D)            (None, None, None, 1 147456      mixed3[0][0]                     \n",
            "__________________________________________________________________________________________________\n",
            "conv2d_1162 (Conv2D)            (None, None, None, 1 172032      activation_1161[0][0]            \n",
            "__________________________________________________________________________________________________\n",
            "conv2d_1167 (Conv2D)            (None, None, None, 1 172032      activation_1166[0][0]            \n",
            "__________________________________________________________________________________________________\n",
            "conv2d_1168 (Conv2D)            (None, None, None, 1 147456      average_pooling2d_112[0][0]      \n",
            "__________________________________________________________________________________________________\n",
            "batch_normalization_1159 (Batch (None, None, None, 1 576         conv2d_1159[0][0]                \n",
            "__________________________________________________________________________________________________\n",
            "batch_normalization_1162 (Batch (None, None, None, 1 576         conv2d_1162[0][0]                \n",
            "__________________________________________________________________________________________________\n",
            "batch_normalization_1167 (Batch (None, None, None, 1 576         conv2d_1167[0][0]                \n",
            "__________________________________________________________________________________________________\n",
            "batch_normalization_1168 (Batch (None, None, None, 1 576         conv2d_1168[0][0]                \n",
            "__________________________________________________________________________________________________\n",
            "activation_1159 (Activation)    (None, None, None, 1 0           batch_normalization_1159[0][0]   \n",
            "__________________________________________________________________________________________________\n",
            "activation_1162 (Activation)    (None, None, None, 1 0           batch_normalization_1162[0][0]   \n",
            "__________________________________________________________________________________________________\n",
            "activation_1167 (Activation)    (None, None, None, 1 0           batch_normalization_1167[0][0]   \n",
            "__________________________________________________________________________________________________\n",
            "activation_1168 (Activation)    (None, None, None, 1 0           batch_normalization_1168[0][0]   \n",
            "__________________________________________________________________________________________________\n",
            "mixed4 (Concatenate)            (None, None, None, 7 0           activation_1159[0][0]            \n",
            "                                                                 activation_1162[0][0]            \n",
            "                                                                 activation_1167[0][0]            \n",
            "                                                                 activation_1168[0][0]            \n",
            "__________________________________________________________________________________________________\n",
            "conv2d_1173 (Conv2D)            (None, None, None, 1 122880      mixed4[0][0]                     \n",
            "__________________________________________________________________________________________________\n",
            "batch_normalization_1173 (Batch (None, None, None, 1 480         conv2d_1173[0][0]                \n",
            "__________________________________________________________________________________________________\n",
            "activation_1173 (Activation)    (None, None, None, 1 0           batch_normalization_1173[0][0]   \n",
            "__________________________________________________________________________________________________\n",
            "conv2d_1174 (Conv2D)            (None, None, None, 1 179200      activation_1173[0][0]            \n",
            "__________________________________________________________________________________________________\n",
            "batch_normalization_1174 (Batch (None, None, None, 1 480         conv2d_1174[0][0]                \n",
            "__________________________________________________________________________________________________\n",
            "activation_1174 (Activation)    (None, None, None, 1 0           batch_normalization_1174[0][0]   \n",
            "__________________________________________________________________________________________________\n",
            "conv2d_1170 (Conv2D)            (None, None, None, 1 122880      mixed4[0][0]                     \n",
            "__________________________________________________________________________________________________\n",
            "conv2d_1175 (Conv2D)            (None, None, None, 1 179200      activation_1174[0][0]            \n",
            "__________________________________________________________________________________________________\n",
            "batch_normalization_1170 (Batch (None, None, None, 1 480         conv2d_1170[0][0]                \n",
            "__________________________________________________________________________________________________\n",
            "batch_normalization_1175 (Batch (None, None, None, 1 480         conv2d_1175[0][0]                \n",
            "__________________________________________________________________________________________________\n",
            "activation_1170 (Activation)    (None, None, None, 1 0           batch_normalization_1170[0][0]   \n",
            "__________________________________________________________________________________________________\n",
            "activation_1175 (Activation)    (None, None, None, 1 0           batch_normalization_1175[0][0]   \n",
            "__________________________________________________________________________________________________\n",
            "conv2d_1171 (Conv2D)            (None, None, None, 1 179200      activation_1170[0][0]            \n",
            "__________________________________________________________________________________________________\n",
            "conv2d_1176 (Conv2D)            (None, None, None, 1 179200      activation_1175[0][0]            \n",
            "__________________________________________________________________________________________________\n",
            "batch_normalization_1171 (Batch (None, None, None, 1 480         conv2d_1171[0][0]                \n",
            "__________________________________________________________________________________________________\n",
            "batch_normalization_1176 (Batch (None, None, None, 1 480         conv2d_1176[0][0]                \n",
            "__________________________________________________________________________________________________\n",
            "activation_1171 (Activation)    (None, None, None, 1 0           batch_normalization_1171[0][0]   \n",
            "__________________________________________________________________________________________________\n",
            "activation_1176 (Activation)    (None, None, None, 1 0           batch_normalization_1176[0][0]   \n",
            "__________________________________________________________________________________________________\n",
            "average_pooling2d_113 (AverageP (None, None, None, 7 0           mixed4[0][0]                     \n",
            "__________________________________________________________________________________________________\n",
            "conv2d_1169 (Conv2D)            (None, None, None, 1 147456      mixed4[0][0]                     \n",
            "__________________________________________________________________________________________________\n",
            "conv2d_1172 (Conv2D)            (None, None, None, 1 215040      activation_1171[0][0]            \n",
            "__________________________________________________________________________________________________\n",
            "conv2d_1177 (Conv2D)            (None, None, None, 1 215040      activation_1176[0][0]            \n",
            "__________________________________________________________________________________________________\n",
            "conv2d_1178 (Conv2D)            (None, None, None, 1 147456      average_pooling2d_113[0][0]      \n",
            "__________________________________________________________________________________________________\n",
            "batch_normalization_1169 (Batch (None, None, None, 1 576         conv2d_1169[0][0]                \n",
            "__________________________________________________________________________________________________\n",
            "batch_normalization_1172 (Batch (None, None, None, 1 576         conv2d_1172[0][0]                \n",
            "__________________________________________________________________________________________________\n",
            "batch_normalization_1177 (Batch (None, None, None, 1 576         conv2d_1177[0][0]                \n",
            "__________________________________________________________________________________________________\n",
            "batch_normalization_1178 (Batch (None, None, None, 1 576         conv2d_1178[0][0]                \n",
            "__________________________________________________________________________________________________\n",
            "activation_1169 (Activation)    (None, None, None, 1 0           batch_normalization_1169[0][0]   \n",
            "__________________________________________________________________________________________________\n",
            "activation_1172 (Activation)    (None, None, None, 1 0           batch_normalization_1172[0][0]   \n",
            "__________________________________________________________________________________________________\n",
            "activation_1177 (Activation)    (None, None, None, 1 0           batch_normalization_1177[0][0]   \n",
            "__________________________________________________________________________________________________\n",
            "activation_1178 (Activation)    (None, None, None, 1 0           batch_normalization_1178[0][0]   \n",
            "__________________________________________________________________________________________________\n",
            "mixed5 (Concatenate)            (None, None, None, 7 0           activation_1169[0][0]            \n",
            "                                                                 activation_1172[0][0]            \n",
            "                                                                 activation_1177[0][0]            \n",
            "                                                                 activation_1178[0][0]            \n",
            "__________________________________________________________________________________________________\n",
            "conv2d_1183 (Conv2D)            (None, None, None, 1 122880      mixed5[0][0]                     \n",
            "__________________________________________________________________________________________________\n",
            "batch_normalization_1183 (Batch (None, None, None, 1 480         conv2d_1183[0][0]                \n",
            "__________________________________________________________________________________________________\n",
            "activation_1183 (Activation)    (None, None, None, 1 0           batch_normalization_1183[0][0]   \n",
            "__________________________________________________________________________________________________\n",
            "conv2d_1184 (Conv2D)            (None, None, None, 1 179200      activation_1183[0][0]            \n",
            "__________________________________________________________________________________________________\n",
            "batch_normalization_1184 (Batch (None, None, None, 1 480         conv2d_1184[0][0]                \n",
            "__________________________________________________________________________________________________\n",
            "activation_1184 (Activation)    (None, None, None, 1 0           batch_normalization_1184[0][0]   \n",
            "__________________________________________________________________________________________________\n",
            "conv2d_1180 (Conv2D)            (None, None, None, 1 122880      mixed5[0][0]                     \n",
            "__________________________________________________________________________________________________\n",
            "conv2d_1185 (Conv2D)            (None, None, None, 1 179200      activation_1184[0][0]            \n",
            "__________________________________________________________________________________________________\n",
            "batch_normalization_1180 (Batch (None, None, None, 1 480         conv2d_1180[0][0]                \n",
            "__________________________________________________________________________________________________\n",
            "batch_normalization_1185 (Batch (None, None, None, 1 480         conv2d_1185[0][0]                \n",
            "__________________________________________________________________________________________________\n",
            "activation_1180 (Activation)    (None, None, None, 1 0           batch_normalization_1180[0][0]   \n",
            "__________________________________________________________________________________________________\n",
            "activation_1185 (Activation)    (None, None, None, 1 0           batch_normalization_1185[0][0]   \n",
            "__________________________________________________________________________________________________\n",
            "conv2d_1181 (Conv2D)            (None, None, None, 1 179200      activation_1180[0][0]            \n",
            "__________________________________________________________________________________________________\n",
            "conv2d_1186 (Conv2D)            (None, None, None, 1 179200      activation_1185[0][0]            \n",
            "__________________________________________________________________________________________________\n",
            "batch_normalization_1181 (Batch (None, None, None, 1 480         conv2d_1181[0][0]                \n",
            "__________________________________________________________________________________________________\n",
            "batch_normalization_1186 (Batch (None, None, None, 1 480         conv2d_1186[0][0]                \n",
            "__________________________________________________________________________________________________\n",
            "activation_1181 (Activation)    (None, None, None, 1 0           batch_normalization_1181[0][0]   \n",
            "__________________________________________________________________________________________________\n",
            "activation_1186 (Activation)    (None, None, None, 1 0           batch_normalization_1186[0][0]   \n",
            "__________________________________________________________________________________________________\n",
            "average_pooling2d_114 (AverageP (None, None, None, 7 0           mixed5[0][0]                     \n",
            "__________________________________________________________________________________________________\n",
            "conv2d_1179 (Conv2D)            (None, None, None, 1 147456      mixed5[0][0]                     \n",
            "__________________________________________________________________________________________________\n",
            "conv2d_1182 (Conv2D)            (None, None, None, 1 215040      activation_1181[0][0]            \n",
            "__________________________________________________________________________________________________\n",
            "conv2d_1187 (Conv2D)            (None, None, None, 1 215040      activation_1186[0][0]            \n",
            "__________________________________________________________________________________________________\n",
            "conv2d_1188 (Conv2D)            (None, None, None, 1 147456      average_pooling2d_114[0][0]      \n",
            "__________________________________________________________________________________________________\n",
            "batch_normalization_1179 (Batch (None, None, None, 1 576         conv2d_1179[0][0]                \n",
            "__________________________________________________________________________________________________\n",
            "batch_normalization_1182 (Batch (None, None, None, 1 576         conv2d_1182[0][0]                \n",
            "__________________________________________________________________________________________________\n",
            "batch_normalization_1187 (Batch (None, None, None, 1 576         conv2d_1187[0][0]                \n",
            "__________________________________________________________________________________________________\n",
            "batch_normalization_1188 (Batch (None, None, None, 1 576         conv2d_1188[0][0]                \n",
            "__________________________________________________________________________________________________\n",
            "activation_1179 (Activation)    (None, None, None, 1 0           batch_normalization_1179[0][0]   \n",
            "__________________________________________________________________________________________________\n",
            "activation_1182 (Activation)    (None, None, None, 1 0           batch_normalization_1182[0][0]   \n",
            "__________________________________________________________________________________________________\n",
            "activation_1187 (Activation)    (None, None, None, 1 0           batch_normalization_1187[0][0]   \n",
            "__________________________________________________________________________________________________\n",
            "activation_1188 (Activation)    (None, None, None, 1 0           batch_normalization_1188[0][0]   \n",
            "__________________________________________________________________________________________________\n",
            "mixed6 (Concatenate)            (None, None, None, 7 0           activation_1179[0][0]            \n",
            "                                                                 activation_1182[0][0]            \n",
            "                                                                 activation_1187[0][0]            \n",
            "                                                                 activation_1188[0][0]            \n",
            "__________________________________________________________________________________________________\n",
            "conv2d_1193 (Conv2D)            (None, None, None, 1 147456      mixed6[0][0]                     \n",
            "__________________________________________________________________________________________________\n",
            "batch_normalization_1193 (Batch (None, None, None, 1 576         conv2d_1193[0][0]                \n",
            "__________________________________________________________________________________________________\n",
            "activation_1193 (Activation)    (None, None, None, 1 0           batch_normalization_1193[0][0]   \n",
            "__________________________________________________________________________________________________\n",
            "conv2d_1194 (Conv2D)            (None, None, None, 1 258048      activation_1193[0][0]            \n",
            "__________________________________________________________________________________________________\n",
            "batch_normalization_1194 (Batch (None, None, None, 1 576         conv2d_1194[0][0]                \n",
            "__________________________________________________________________________________________________\n",
            "activation_1194 (Activation)    (None, None, None, 1 0           batch_normalization_1194[0][0]   \n",
            "__________________________________________________________________________________________________\n",
            "conv2d_1190 (Conv2D)            (None, None, None, 1 147456      mixed6[0][0]                     \n",
            "__________________________________________________________________________________________________\n",
            "conv2d_1195 (Conv2D)            (None, None, None, 1 258048      activation_1194[0][0]            \n",
            "__________________________________________________________________________________________________\n",
            "batch_normalization_1190 (Batch (None, None, None, 1 576         conv2d_1190[0][0]                \n",
            "__________________________________________________________________________________________________\n",
            "batch_normalization_1195 (Batch (None, None, None, 1 576         conv2d_1195[0][0]                \n",
            "__________________________________________________________________________________________________\n",
            "activation_1190 (Activation)    (None, None, None, 1 0           batch_normalization_1190[0][0]   \n",
            "__________________________________________________________________________________________________\n",
            "activation_1195 (Activation)    (None, None, None, 1 0           batch_normalization_1195[0][0]   \n",
            "__________________________________________________________________________________________________\n",
            "conv2d_1191 (Conv2D)            (None, None, None, 1 258048      activation_1190[0][0]            \n",
            "__________________________________________________________________________________________________\n",
            "conv2d_1196 (Conv2D)            (None, None, None, 1 258048      activation_1195[0][0]            \n",
            "__________________________________________________________________________________________________\n",
            "batch_normalization_1191 (Batch (None, None, None, 1 576         conv2d_1191[0][0]                \n",
            "__________________________________________________________________________________________________\n",
            "batch_normalization_1196 (Batch (None, None, None, 1 576         conv2d_1196[0][0]                \n",
            "__________________________________________________________________________________________________\n",
            "activation_1191 (Activation)    (None, None, None, 1 0           batch_normalization_1191[0][0]   \n",
            "__________________________________________________________________________________________________\n",
            "activation_1196 (Activation)    (None, None, None, 1 0           batch_normalization_1196[0][0]   \n",
            "__________________________________________________________________________________________________\n",
            "average_pooling2d_115 (AverageP (None, None, None, 7 0           mixed6[0][0]                     \n",
            "__________________________________________________________________________________________________\n",
            "conv2d_1189 (Conv2D)            (None, None, None, 1 147456      mixed6[0][0]                     \n",
            "__________________________________________________________________________________________________\n",
            "conv2d_1192 (Conv2D)            (None, None, None, 1 258048      activation_1191[0][0]            \n",
            "__________________________________________________________________________________________________\n",
            "conv2d_1197 (Conv2D)            (None, None, None, 1 258048      activation_1196[0][0]            \n",
            "__________________________________________________________________________________________________\n",
            "conv2d_1198 (Conv2D)            (None, None, None, 1 147456      average_pooling2d_115[0][0]      \n",
            "__________________________________________________________________________________________________\n",
            "batch_normalization_1189 (Batch (None, None, None, 1 576         conv2d_1189[0][0]                \n",
            "__________________________________________________________________________________________________\n",
            "batch_normalization_1192 (Batch (None, None, None, 1 576         conv2d_1192[0][0]                \n",
            "__________________________________________________________________________________________________\n",
            "batch_normalization_1197 (Batch (None, None, None, 1 576         conv2d_1197[0][0]                \n",
            "__________________________________________________________________________________________________\n",
            "batch_normalization_1198 (Batch (None, None, None, 1 576         conv2d_1198[0][0]                \n",
            "__________________________________________________________________________________________________\n",
            "activation_1189 (Activation)    (None, None, None, 1 0           batch_normalization_1189[0][0]   \n",
            "__________________________________________________________________________________________________\n",
            "activation_1192 (Activation)    (None, None, None, 1 0           batch_normalization_1192[0][0]   \n",
            "__________________________________________________________________________________________________\n",
            "activation_1197 (Activation)    (None, None, None, 1 0           batch_normalization_1197[0][0]   \n",
            "__________________________________________________________________________________________________\n",
            "activation_1198 (Activation)    (None, None, None, 1 0           batch_normalization_1198[0][0]   \n",
            "__________________________________________________________________________________________________\n",
            "mixed7 (Concatenate)            (None, None, None, 7 0           activation_1189[0][0]            \n",
            "                                                                 activation_1192[0][0]            \n",
            "                                                                 activation_1197[0][0]            \n",
            "                                                                 activation_1198[0][0]            \n",
            "__________________________________________________________________________________________________\n",
            "conv2d_1201 (Conv2D)            (None, None, None, 1 147456      mixed7[0][0]                     \n",
            "__________________________________________________________________________________________________\n",
            "batch_normalization_1201 (Batch (None, None, None, 1 576         conv2d_1201[0][0]                \n",
            "__________________________________________________________________________________________________\n",
            "activation_1201 (Activation)    (None, None, None, 1 0           batch_normalization_1201[0][0]   \n",
            "__________________________________________________________________________________________________\n",
            "conv2d_1202 (Conv2D)            (None, None, None, 1 258048      activation_1201[0][0]            \n",
            "__________________________________________________________________________________________________\n",
            "batch_normalization_1202 (Batch (None, None, None, 1 576         conv2d_1202[0][0]                \n",
            "__________________________________________________________________________________________________\n",
            "activation_1202 (Activation)    (None, None, None, 1 0           batch_normalization_1202[0][0]   \n",
            "__________________________________________________________________________________________________\n",
            "conv2d_1199 (Conv2D)            (None, None, None, 1 147456      mixed7[0][0]                     \n",
            "__________________________________________________________________________________________________\n",
            "conv2d_1203 (Conv2D)            (None, None, None, 1 258048      activation_1202[0][0]            \n",
            "__________________________________________________________________________________________________\n",
            "batch_normalization_1199 (Batch (None, None, None, 1 576         conv2d_1199[0][0]                \n",
            "__________________________________________________________________________________________________\n",
            "batch_normalization_1203 (Batch (None, None, None, 1 576         conv2d_1203[0][0]                \n",
            "__________________________________________________________________________________________________\n",
            "activation_1199 (Activation)    (None, None, None, 1 0           batch_normalization_1199[0][0]   \n",
            "__________________________________________________________________________________________________\n",
            "activation_1203 (Activation)    (None, None, None, 1 0           batch_normalization_1203[0][0]   \n",
            "__________________________________________________________________________________________________\n",
            "conv2d_1200 (Conv2D)            (None, None, None, 3 552960      activation_1199[0][0]            \n",
            "__________________________________________________________________________________________________\n",
            "conv2d_1204 (Conv2D)            (None, None, None, 1 331776      activation_1203[0][0]            \n",
            "__________________________________________________________________________________________________\n",
            "batch_normalization_1200 (Batch (None, None, None, 3 960         conv2d_1200[0][0]                \n",
            "__________________________________________________________________________________________________\n",
            "batch_normalization_1204 (Batch (None, None, None, 1 576         conv2d_1204[0][0]                \n",
            "__________________________________________________________________________________________________\n",
            "activation_1200 (Activation)    (None, None, None, 3 0           batch_normalization_1200[0][0]   \n",
            "__________________________________________________________________________________________________\n",
            "activation_1204 (Activation)    (None, None, None, 1 0           batch_normalization_1204[0][0]   \n",
            "__________________________________________________________________________________________________\n",
            "max_pooling2d_52 (MaxPooling2D) (None, None, None, 7 0           mixed7[0][0]                     \n",
            "__________________________________________________________________________________________________\n",
            "mixed8 (Concatenate)            (None, None, None, 1 0           activation_1200[0][0]            \n",
            "                                                                 activation_1204[0][0]            \n",
            "                                                                 max_pooling2d_52[0][0]           \n",
            "__________________________________________________________________________________________________\n",
            "conv2d_1209 (Conv2D)            (None, None, None, 4 573440      mixed8[0][0]                     \n",
            "__________________________________________________________________________________________________\n",
            "batch_normalization_1209 (Batch (None, None, None, 4 1344        conv2d_1209[0][0]                \n",
            "__________________________________________________________________________________________________\n",
            "activation_1209 (Activation)    (None, None, None, 4 0           batch_normalization_1209[0][0]   \n",
            "__________________________________________________________________________________________________\n",
            "conv2d_1206 (Conv2D)            (None, None, None, 3 491520      mixed8[0][0]                     \n",
            "__________________________________________________________________________________________________\n",
            "conv2d_1210 (Conv2D)            (None, None, None, 3 1548288     activation_1209[0][0]            \n",
            "__________________________________________________________________________________________________\n",
            "batch_normalization_1206 (Batch (None, None, None, 3 1152        conv2d_1206[0][0]                \n",
            "__________________________________________________________________________________________________\n",
            "batch_normalization_1210 (Batch (None, None, None, 3 1152        conv2d_1210[0][0]                \n",
            "__________________________________________________________________________________________________\n",
            "activation_1206 (Activation)    (None, None, None, 3 0           batch_normalization_1206[0][0]   \n",
            "__________________________________________________________________________________________________\n",
            "activation_1210 (Activation)    (None, None, None, 3 0           batch_normalization_1210[0][0]   \n",
            "__________________________________________________________________________________________________\n",
            "conv2d_1207 (Conv2D)            (None, None, None, 3 442368      activation_1206[0][0]            \n",
            "__________________________________________________________________________________________________\n",
            "conv2d_1208 (Conv2D)            (None, None, None, 3 442368      activation_1206[0][0]            \n",
            "__________________________________________________________________________________________________\n",
            "conv2d_1211 (Conv2D)            (None, None, None, 3 442368      activation_1210[0][0]            \n",
            "__________________________________________________________________________________________________\n",
            "conv2d_1212 (Conv2D)            (None, None, None, 3 442368      activation_1210[0][0]            \n",
            "__________________________________________________________________________________________________\n",
            "average_pooling2d_116 (AverageP (None, None, None, 1 0           mixed8[0][0]                     \n",
            "__________________________________________________________________________________________________\n",
            "conv2d_1205 (Conv2D)            (None, None, None, 3 409600      mixed8[0][0]                     \n",
            "__________________________________________________________________________________________________\n",
            "batch_normalization_1207 (Batch (None, None, None, 3 1152        conv2d_1207[0][0]                \n",
            "__________________________________________________________________________________________________\n",
            "batch_normalization_1208 (Batch (None, None, None, 3 1152        conv2d_1208[0][0]                \n",
            "__________________________________________________________________________________________________\n",
            "batch_normalization_1211 (Batch (None, None, None, 3 1152        conv2d_1211[0][0]                \n",
            "__________________________________________________________________________________________________\n",
            "batch_normalization_1212 (Batch (None, None, None, 3 1152        conv2d_1212[0][0]                \n",
            "__________________________________________________________________________________________________\n",
            "conv2d_1213 (Conv2D)            (None, None, None, 1 245760      average_pooling2d_116[0][0]      \n",
            "__________________________________________________________________________________________________\n",
            "batch_normalization_1205 (Batch (None, None, None, 3 960         conv2d_1205[0][0]                \n",
            "__________________________________________________________________________________________________\n",
            "activation_1207 (Activation)    (None, None, None, 3 0           batch_normalization_1207[0][0]   \n",
            "__________________________________________________________________________________________________\n",
            "activation_1208 (Activation)    (None, None, None, 3 0           batch_normalization_1208[0][0]   \n",
            "__________________________________________________________________________________________________\n",
            "activation_1211 (Activation)    (None, None, None, 3 0           batch_normalization_1211[0][0]   \n",
            "__________________________________________________________________________________________________\n",
            "activation_1212 (Activation)    (None, None, None, 3 0           batch_normalization_1212[0][0]   \n",
            "__________________________________________________________________________________________________\n",
            "batch_normalization_1213 (Batch (None, None, None, 1 576         conv2d_1213[0][0]                \n",
            "__________________________________________________________________________________________________\n",
            "activation_1205 (Activation)    (None, None, None, 3 0           batch_normalization_1205[0][0]   \n",
            "__________________________________________________________________________________________________\n",
            "mixed9_0 (Concatenate)          (None, None, None, 7 0           activation_1207[0][0]            \n",
            "                                                                 activation_1208[0][0]            \n",
            "__________________________________________________________________________________________________\n",
            "concatenate_25 (Concatenate)    (None, None, None, 7 0           activation_1211[0][0]            \n",
            "                                                                 activation_1212[0][0]            \n",
            "__________________________________________________________________________________________________\n",
            "activation_1213 (Activation)    (None, None, None, 1 0           batch_normalization_1213[0][0]   \n",
            "__________________________________________________________________________________________________\n",
            "mixed9 (Concatenate)            (None, None, None, 2 0           activation_1205[0][0]            \n",
            "                                                                 mixed9_0[0][0]                   \n",
            "                                                                 concatenate_25[0][0]             \n",
            "                                                                 activation_1213[0][0]            \n",
            "__________________________________________________________________________________________________\n",
            "conv2d_1218 (Conv2D)            (None, None, None, 4 917504      mixed9[0][0]                     \n",
            "__________________________________________________________________________________________________\n",
            "batch_normalization_1218 (Batch (None, None, None, 4 1344        conv2d_1218[0][0]                \n",
            "__________________________________________________________________________________________________\n",
            "activation_1218 (Activation)    (None, None, None, 4 0           batch_normalization_1218[0][0]   \n",
            "__________________________________________________________________________________________________\n",
            "conv2d_1215 (Conv2D)            (None, None, None, 3 786432      mixed9[0][0]                     \n",
            "__________________________________________________________________________________________________\n",
            "conv2d_1219 (Conv2D)            (None, None, None, 3 1548288     activation_1218[0][0]            \n",
            "__________________________________________________________________________________________________\n",
            "batch_normalization_1215 (Batch (None, None, None, 3 1152        conv2d_1215[0][0]                \n",
            "__________________________________________________________________________________________________\n",
            "batch_normalization_1219 (Batch (None, None, None, 3 1152        conv2d_1219[0][0]                \n",
            "__________________________________________________________________________________________________\n",
            "activation_1215 (Activation)    (None, None, None, 3 0           batch_normalization_1215[0][0]   \n",
            "__________________________________________________________________________________________________\n",
            "activation_1219 (Activation)    (None, None, None, 3 0           batch_normalization_1219[0][0]   \n",
            "__________________________________________________________________________________________________\n",
            "conv2d_1216 (Conv2D)            (None, None, None, 3 442368      activation_1215[0][0]            \n",
            "__________________________________________________________________________________________________\n",
            "conv2d_1217 (Conv2D)            (None, None, None, 3 442368      activation_1215[0][0]            \n",
            "__________________________________________________________________________________________________\n",
            "conv2d_1220 (Conv2D)            (None, None, None, 3 442368      activation_1219[0][0]            \n",
            "__________________________________________________________________________________________________\n",
            "conv2d_1221 (Conv2D)            (None, None, None, 3 442368      activation_1219[0][0]            \n",
            "__________________________________________________________________________________________________\n",
            "average_pooling2d_117 (AverageP (None, None, None, 2 0           mixed9[0][0]                     \n",
            "__________________________________________________________________________________________________\n",
            "conv2d_1214 (Conv2D)            (None, None, None, 3 655360      mixed9[0][0]                     \n",
            "__________________________________________________________________________________________________\n",
            "batch_normalization_1216 (Batch (None, None, None, 3 1152        conv2d_1216[0][0]                \n",
            "__________________________________________________________________________________________________\n",
            "batch_normalization_1217 (Batch (None, None, None, 3 1152        conv2d_1217[0][0]                \n",
            "__________________________________________________________________________________________________\n",
            "batch_normalization_1220 (Batch (None, None, None, 3 1152        conv2d_1220[0][0]                \n",
            "__________________________________________________________________________________________________\n",
            "batch_normalization_1221 (Batch (None, None, None, 3 1152        conv2d_1221[0][0]                \n",
            "__________________________________________________________________________________________________\n",
            "conv2d_1222 (Conv2D)            (None, None, None, 1 393216      average_pooling2d_117[0][0]      \n",
            "__________________________________________________________________________________________________\n",
            "batch_normalization_1214 (Batch (None, None, None, 3 960         conv2d_1214[0][0]                \n",
            "__________________________________________________________________________________________________\n",
            "activation_1216 (Activation)    (None, None, None, 3 0           batch_normalization_1216[0][0]   \n",
            "__________________________________________________________________________________________________\n",
            "activation_1217 (Activation)    (None, None, None, 3 0           batch_normalization_1217[0][0]   \n",
            "__________________________________________________________________________________________________\n",
            "activation_1220 (Activation)    (None, None, None, 3 0           batch_normalization_1220[0][0]   \n",
            "__________________________________________________________________________________________________\n",
            "activation_1221 (Activation)    (None, None, None, 3 0           batch_normalization_1221[0][0]   \n",
            "__________________________________________________________________________________________________\n",
            "batch_normalization_1222 (Batch (None, None, None, 1 576         conv2d_1222[0][0]                \n",
            "__________________________________________________________________________________________________\n",
            "activation_1214 (Activation)    (None, None, None, 3 0           batch_normalization_1214[0][0]   \n",
            "__________________________________________________________________________________________________\n",
            "mixed9_1 (Concatenate)          (None, None, None, 7 0           activation_1216[0][0]            \n",
            "                                                                 activation_1217[0][0]            \n",
            "__________________________________________________________________________________________________\n",
            "concatenate_26 (Concatenate)    (None, None, None, 7 0           activation_1220[0][0]            \n",
            "                                                                 activation_1221[0][0]            \n",
            "__________________________________________________________________________________________________\n",
            "activation_1222 (Activation)    (None, None, None, 1 0           batch_normalization_1222[0][0]   \n",
            "__________________________________________________________________________________________________\n",
            "mixed10 (Concatenate)           (None, None, None, 2 0           activation_1214[0][0]            \n",
            "                                                                 mixed9_1[0][0]                   \n",
            "                                                                 concatenate_26[0][0]             \n",
            "                                                                 activation_1222[0][0]            \n",
            "__________________________________________________________________________________________________\n",
            "global_average_pooling2d_3 (Glo (None, 2048)         0           mixed10[0][0]                    \n",
            "__________________________________________________________________________________________________\n",
            "dense_5 (Dense)                 (None, 1024)         2098176     global_average_pooling2d_3[0][0] \n",
            "__________________________________________________________________________________________________\n",
            "dropout_1 (Dropout)             (None, 1024)         0           dense_5[0][0]                    \n",
            "__________________________________________________________________________________________________\n",
            "dense_6 (Dense)                 (None, 2)            2050        dropout_1[0][0]                  \n",
            "==================================================================================================\n",
            "Total params: 23,903,010\n",
            "Trainable params: 2,100,226\n",
            "Non-trainable params: 21,802,784\n",
            "__________________________________________________________________________________________________\n"
          ],
          "name": "stdout"
        }
      ]
    },
    {
      "metadata": {
        "id": "aiI6GVfxGfUM",
        "colab_type": "code",
        "colab": {}
      },
      "cell_type": "code",
      "source": [
        "for layer in model.layers:\n",
        "    print(layer, layer.trainable)"
      ],
      "execution_count": 0,
      "outputs": []
    },
    {
      "metadata": {
        "colab_type": "code",
        "id": "P7V6xR0vGsPC",
        "colab": {}
      },
      "cell_type": "code",
      "source": [
        "model.compile(Adam(lr=.0001), loss='categorical_crossentropy', metrics=['accuracy'])"
      ],
      "execution_count": 0,
      "outputs": []
    },
    {
      "metadata": {
        "colab_type": "code",
        "outputId": "ba07a564-f2d7-4a59-fc9b-931bd55933ab",
        "id": "PNqt2oPRGsPH",
        "colab": {
          "base_uri": "https://localhost:8080/",
          "height": 374
        }
      },
      "cell_type": "code",
      "source": [
        "model.fit_generator(train_batches,\n",
        "          steps_per_epoch=11,\n",
        "          shuffle=True,\n",
        "          verbose=2,\n",
        "          validation_data=validate_batches,\n",
        "          validation_steps=4,\n",
        "          epochs=10\n",
        "          )"
      ],
      "execution_count": 0,
      "outputs": [
        {
          "output_type": "stream",
          "text": [
            "Epoch 1/10\n",
            " - 79s - loss: 0.8363 - acc: 0.5630 - val_loss: 6.1519 - val_acc: 0.5750\n",
            "Epoch 2/10\n",
            " - 29s - loss: 0.5380 - acc: 0.7350 - val_loss: 6.0443 - val_acc: 0.6250\n",
            "Epoch 3/10\n",
            " - 34s - loss: 0.5125 - acc: 0.7841 - val_loss: 6.1510 - val_acc: 0.5750\n",
            "Epoch 4/10\n",
            " - 34s - loss: 0.4384 - acc: 0.7701 - val_loss: 6.0443 - val_acc: 0.6250\n",
            "Epoch 5/10\n",
            " - 34s - loss: 0.3745 - acc: 0.8701 - val_loss: 6.0443 - val_acc: 0.6250\n",
            "Epoch 6/10\n",
            " - 34s - loss: 0.2916 - acc: 0.8879 - val_loss: 6.0443 - val_acc: 0.6250\n",
            "Epoch 7/10\n",
            " - 34s - loss: 0.2709 - acc: 0.9089 - val_loss: 6.0443 - val_acc: 0.6250\n",
            "Epoch 8/10\n",
            " - 34s - loss: 0.1938 - acc: 0.9560 - val_loss: 6.0443 - val_acc: 0.6250\n",
            "Epoch 9/10\n",
            " - 34s - loss: 0.1797 - acc: 0.9242 - val_loss: 6.0443 - val_acc: 0.6250\n",
            "Epoch 10/10\n",
            " - 34s - loss: 0.2248 - acc: 0.9261 - val_loss: 6.0443 - val_acc: 0.6250\n"
          ],
          "name": "stdout"
        },
        {
          "output_type": "execute_result",
          "data": {
            "text/plain": [
              "<keras.callbacks.History at 0x7f45de5b32b0>"
            ]
          },
          "metadata": {
            "tags": []
          },
          "execution_count": 61
        }
      ]
    },
    {
      "metadata": {
        "colab_type": "code",
        "id": "adDR5dOMGsPW",
        "colab": {}
      },
      "cell_type": "code",
      "source": [
        "predictions_valid = model.predict(img_test, verbose=2)"
      ],
      "execution_count": 0,
      "outputs": []
    },
    {
      "metadata": {
        "id": "JH44EWSD-p7j",
        "colab_type": "code",
        "colab": {}
      },
      "cell_type": "code",
      "source": [
        "model_inc = keras.applications.inception_v3.InceptionV3(include_top=False, weights='imagenet', input_tensor=None, input_shape=(299,299,3), pooling=None, classes=1000)"
      ],
      "execution_count": 0,
      "outputs": []
    },
    {
      "metadata": {
        "id": "lL_tRb6L_lEa",
        "colab_type": "code",
        "colab": {}
      },
      "cell_type": "code",
      "source": [
        "model_inc.summary()"
      ],
      "execution_count": 0,
      "outputs": []
    },
    {
      "metadata": {
        "colab_type": "code",
        "id": "nHiwKnV3AIxY",
        "colab": {}
      },
      "cell_type": "code",
      "source": [
        "inception = Sequential()\n",
        "for layer in model_inc.layers:\n",
        "  inception.add(layer)"
      ],
      "execution_count": 0,
      "outputs": []
    },
    {
      "metadata": {
        "colab_type": "code",
        "id": "z3kUVFPUAIxf",
        "colab": {}
      },
      "cell_type": "code",
      "source": [
        "for layer in inception.layers:\n",
        "  layer.trainable = False"
      ],
      "execution_count": 0,
      "outputs": []
    },
    {
      "metadata": {
        "colab_type": "code",
        "outputId": "3754c757-ba98-4efd-fc9c-f9b627807cfb",
        "id": "54L9CFwTAIxn",
        "colab": {
          "base_uri": "https://localhost:8080/",
          "height": 34
        }
      },
      "cell_type": "code",
      "source": [
        "inception.output_shape[1:]"
      ],
      "execution_count": 0,
      "outputs": [
        {
          "output_type": "execute_result",
          "data": {
            "text/plain": [
              "(7, 7, 512)"
            ]
          },
          "metadata": {
            "tags": []
          },
          "execution_count": 151
        }
      ]
    },
    {
      "metadata": {
        "colab_type": "code",
        "id": "2dWuL969AIx2",
        "colab": {}
      },
      "cell_type": "code",
      "source": [
        "\n",
        "inception.add(Flatten(input_shape=inception.output_shape[1:]))\n",
        "inception.add(Dense(256, activation='relu'))\n",
        "inception.add(Dropout(0.5))\n",
        "inception.add(Dense(2, activation='softmax'))"
      ],
      "execution_count": 0,
      "outputs": []
    },
    {
      "metadata": {
        "colab_type": "code",
        "id": "szo67otAAIyA",
        "colab": {}
      },
      "cell_type": "code",
      "source": [
        "inception.compile(Adam(lr=.0001), loss='categorical_crossentropy', metrics=['accuracy'])"
      ],
      "execution_count": 0,
      "outputs": []
    },
    {
      "metadata": {
        "colab_type": "code",
        "outputId": "5e96fb7e-1c51-41f9-bf2c-3dc0fe4423eb",
        "id": "zz7NhlgQAIyH",
        "colab": {
          "base_uri": "https://localhost:8080/",
          "height": 204
        }
      },
      "cell_type": "code",
      "source": [
        "inception.fit_generator(train_batches,\n",
        "          steps_per_epoch=11,\n",
        "          shuffle=True,\n",
        "          verbose=2,\n",
        "          validation_data=validate_batches,\n",
        "          validation_steps=4,\n",
        "          epochs=10\n",
        "          )"
      ],
      "execution_count": 0,
      "outputs": [
        {
          "output_type": "stream",
          "text": [
            "Epoch 1/5\n",
            " - 40s - loss: 4.1750 - acc: 0.6618 - val_loss: 4.2427 - val_acc: 0.6750\n",
            "Epoch 2/5\n",
            " - 31s - loss: 1.4121 - acc: 0.8949 - val_loss: 0.2725 - val_acc: 0.9500\n",
            "Epoch 3/5\n",
            " - 32s - loss: 0.5490 - acc: 0.9611 - val_loss: 0.1599 - val_acc: 0.9250\n",
            "Epoch 4/5\n",
            " - 32s - loss: 0.2019 - acc: 0.9720 - val_loss: 0.1772 - val_acc: 0.9750\n",
            "Epoch 5/5\n",
            " - 31s - loss: 0.2116 - acc: 0.9771 - val_loss: 3.9506e-06 - val_acc: 1.0000\n"
          ],
          "name": "stdout"
        },
        {
          "output_type": "execute_result",
          "data": {
            "text/plain": [
              "<keras.callbacks.History at 0x7fd007e939e8>"
            ]
          },
          "metadata": {
            "tags": []
          },
          "execution_count": 154
        }
      ]
    },
    {
      "metadata": {
        "colab_type": "code",
        "id": "GGvAIFxnAIyQ",
        "colab": {}
      },
      "cell_type": "code",
      "source": [
        "predictions_valid = inception.predict(img_test, verbose=2)"
      ],
      "execution_count": 0,
      "outputs": []
    },
    {
      "metadata": {
        "colab_type": "code",
        "outputId": "0b22e1d9-7781-4380-ccf9-3cc7e4e20c41",
        "id": "hVS4niNVAIyY",
        "colab": {
          "base_uri": "https://localhost:8080/",
          "height": 340
        }
      },
      "cell_type": "code",
      "source": [
        "predictions_valid"
      ],
      "execution_count": 0,
      "outputs": [
        {
          "output_type": "execute_result",
          "data": {
            "text/plain": [
              "array([[0.0000000e+00, 1.0000000e+00],\n",
              "       [0.0000000e+00, 1.0000000e+00],\n",
              "       [1.5766729e-33, 1.0000000e+00],\n",
              "       [1.7487157e-34, 1.0000000e+00],\n",
              "       [0.0000000e+00, 1.0000000e+00],\n",
              "       [0.0000000e+00, 1.0000000e+00],\n",
              "       [1.1111638e-37, 1.0000000e+00],\n",
              "       [0.0000000e+00, 1.0000000e+00],\n",
              "       [0.0000000e+00, 1.0000000e+00],\n",
              "       [5.3875798e-32, 1.0000000e+00],\n",
              "       [1.4517823e-36, 1.0000000e+00],\n",
              "       [7.4428078e-37, 1.0000000e+00],\n",
              "       [0.0000000e+00, 1.0000000e+00],\n",
              "       [5.5726663e-28, 1.0000000e+00],\n",
              "       [0.0000000e+00, 1.0000000e+00],\n",
              "       [7.7792804e-38, 1.0000000e+00],\n",
              "       [2.1526801e-27, 1.0000000e+00],\n",
              "       [5.5235471e-27, 1.0000000e+00],\n",
              "       [1.8481860e-37, 1.0000000e+00]], dtype=float32)"
            ]
          },
          "metadata": {
            "tags": []
          },
          "execution_count": 52
        }
      ]
    },
    {
      "metadata": {
        "colab_type": "code",
        "outputId": "d73226b6-8edf-4fd7-99a4-e4d43471e5fd",
        "id": "4BOnoYAYAIyn",
        "colab": {
          "base_uri": "https://localhost:8080/",
          "height": 34
        }
      },
      "cell_type": "code",
      "source": [
        "pre = np.argmax(predictions_valid,axis=1)\n",
        "pre"
      ],
      "execution_count": 0,
      "outputs": [
        {
          "output_type": "execute_result",
          "data": {
            "text/plain": [
              "array([1, 1, 1, 1, 1, 1, 1, 1, 1, 1, 1, 1, 1, 1, 1, 1, 1, 1, 1])"
            ]
          },
          "metadata": {
            "tags": []
          },
          "execution_count": 64
        }
      ]
    },
    {
      "metadata": {
        "colab_type": "code",
        "outputId": "72e7855c-a80a-4876-87cf-5f7157323315",
        "id": "pI3CoMYOAIy-",
        "colab": {
          "base_uri": "https://localhost:8080/",
          "height": 34
        }
      },
      "cell_type": "code",
      "source": [
        "label_t = np.argmax(label_test,axis=1)\n",
        "label_t"
      ],
      "execution_count": 0,
      "outputs": [
        {
          "output_type": "execute_result",
          "data": {
            "text/plain": [
              "array([1, 1, 1, 0, 1, 1, 1, 0, 1, 0, 1, 0, 1, 1, 1, 1, 1, 1, 1])"
            ]
          },
          "metadata": {
            "tags": []
          },
          "execution_count": 65
        }
      ]
    },
    {
      "metadata": {
        "colab_type": "code",
        "id": "0Pxk3-vvAIzO",
        "colab": {}
      },
      "cell_type": "code",
      "source": [
        "cm = confusion_matrix(label_t,pre)"
      ],
      "execution_count": 0,
      "outputs": []
    },
    {
      "metadata": {
        "colab_type": "code",
        "outputId": "b1485204-6b55-4d26-a493-d94ec413eae6",
        "id": "TTZodiUXAIzc",
        "colab": {
          "base_uri": "https://localhost:8080/",
          "height": 605
        }
      },
      "cell_type": "code",
      "source": [
        "#accuracy\n",
        "score = metrics.accuracy_score(label_t, pre)\n",
        "print(\"Final accuracy: {}\".format(score))\n",
        "\n",
        "plt.figure()\n",
        "plot_confusion_matrix(cm,['No Car','Multiple Cars'])\n",
        "plt.show()\n",
        "\n",
        "print(metrics.classification_report(label_t, pre))"
      ],
      "execution_count": 0,
      "outputs": [
        {
          "output_type": "stream",
          "text": [
            "Final accuracy: 0.7894736842105263\n"
          ],
          "name": "stdout"
        },
        {
          "output_type": "display_data",
          "data": {
            "image/png": "[encoded data removed]",
            "text/plain": [
              "<matplotlib.figure.Figure at 0x7f45e827f588>"
            ]
          },
          "metadata": {
            "tags": []
          }
        },
        {
          "output_type": "stream",
          "text": [
            "             precision    recall  f1-score   support\n",
            "\n",
            "          0       0.00      0.00      0.00         4\n",
            "          1       0.79      1.00      0.88        15\n",
            "\n",
            "avg / total       0.62      0.79      0.70        19\n",
            "\n"
          ],
          "name": "stdout"
        },
        {
          "output_type": "stream",
          "text": [
            "/usr/local/lib/python3.6/dist-packages/sklearn/metrics/classification.py:1135: UndefinedMetricWarning: Precision and F-score are ill-defined and being set to 0.0 in labels with no predicted samples.\n",
            "  'precision', 'predicted', average, warn_for)\n"
          ],
          "name": "stderr"
        }
      ]
    }
  ]
}